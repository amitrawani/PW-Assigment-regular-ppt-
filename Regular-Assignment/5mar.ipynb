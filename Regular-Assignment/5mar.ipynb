{
 "cells": [
  {
   "cell_type": "markdown",
   "id": "f120548e-3857-4610-b8ef-6958e0846926",
   "metadata": {},
   "source": [
    "# Bokeh Assignment"
   ]
  },
  {
   "cell_type": "markdown",
   "id": "6a748302-b00f-45ff-8b48-1176916bc7ad",
   "metadata": {},
   "source": [
    "Q1. How can you create a Bokeh plot using Python code?"
   ]
  },
  {
   "cell_type": "markdown",
   "id": "a60b27f7-cc0f-4210-a272-2df2b0b276d5",
   "metadata": {},
   "source": [
    "\n",
    "Ans1:\n",
    "\n",
    "A class is a user-defined *blueprint* or *prototype* from which objects are created. Classes provide a means of bundling data and \n",
    "functionality together. Creating a new class creates a new type of object, allowing new instances of that type to be made. Each class \n",
    "instance can have attributes attached to it for maintaining its state. Class instances can also have methods (defined by their class) \n",
    "for modifying their state.\n",
    "\n",
    "    Eg: class human: pass\n",
    "\n",
    "An Object is an instance of a Class. A class is like a blueprint while an instance is a copy of the class with actual values.\n",
    "An object consists of :\n",
    "\n",
    "    State: It is represented by the attributes of an object. It also reflects the properties of an object.\n",
    "    Behaviour: It is represented by the methods of an object. It also reflects the response of an object to other objects.\n",
    "    Identity: It gives a unique name to an object and enables one object to interact with other objects.\n",
    "\n",
    "When an object of a class is created, the class is said to be instantiated. All the instances share the attributes and the behavior\n",
    "of the class. But the values of those attributes, i.e. the state are unique for each object. A single class may have any number \n",
    "of instances\n",
    "\n",
    "    Eg: rohan = human()\n",
    "\n"
   ]
  },
  {
   "cell_type": "markdown",
   "id": "3e842f33-6f5e-4738-b03f-75db4c39c43f",
   "metadata": {},
   "source": [
    "Q2. What are glyphs in Bokeh, and how can you add them to a Bokeh plot? Explain with an example."
   ]
  },
  {
   "cell_type": "markdown",
   "id": "c9e3ee22-937a-4743-846a-e39ab2694e75",
   "metadata": {},
   "source": [
    "Ans: Inheritance, Polymorphism, Encapsulation and Abstraction"
   ]
  },
  {
   "cell_type": "markdown",
   "id": "496c7d6f-e7e2-4ee4-83b0-d613a08c8689",
   "metadata": {},
   "source": [
    "Q3. How can you customize the appearance of a Bokeh plot, including the axes, title, and legend?"
   ]
  },
  {
   "cell_type": "markdown",
   "id": "3052db22-d5fd-4a5f-a2e2-4240fd5ecde0",
   "metadata": {},
   "source": [
    "init() aka constructor is a special method that the program calls upon an object’s creation. The constructor is used in the \n",
    "class to initialize data members to the object."
   ]
  },
  {
   "cell_type": "code",
   "execution_count": 1,
   "id": "a22748d7-0c8b-4379-a44d-ee1ba54e5379",
   "metadata": {},
   "outputs": [
    {
     "name": "stdout",
     "output_type": "stream",
     "text": [
      "Human class constructor initiated\n"
     ]
    }
   ],
   "source": [
    "#Ans3 continued\n",
    "class human:\n",
    "    def __init__(self):\n",
    "        print('Human class constructor initiated')\n",
    "\n",
    "rohan = human()\n",
    "        \n",
    "\n"
   ]
  },
  {
   "cell_type": "markdown",
   "id": "5442a4e6-c91e-4843-9566-3a69e08f23f2",
   "metadata": {},
   "source": [
    "Q4. What is a Bokeh server, and how can you use it to create interactive plots that can be updated in\n",
    "real time?"
   ]
  },
  {
   "cell_type": "markdown",
   "id": "46a011d1-a2a6-4fbb-ab15-ab3a64250356",
   "metadata": {},
   "source": [
    "Ans: Self is always pointing to Current Object. self represents the instance of the class. By using the “self” we \n",
    "can access the attributes and methods of the class in python. It binds the attributes with the given arguments.\n",
    "\n",
    "The reason we use self. is because Python does not use the @ syntax to refer to instance attributes. Python decided \n",
    "to do methods in a way that makes the instance to which the method belongs be passed automatically, but not received automatically: \n",
    "    the first parameter of methods is the instance the method is called on."
   ]
  },
  {
   "cell_type": "markdown",
   "id": "41a2096d-a818-4eec-83d1-2504a8b38965",
   "metadata": {},
   "source": [
    "Q5. How can you embed a Bokeh plot into a web page or dashboard using Flask or Django?"
   ]
  },
  {
   "cell_type": "markdown",
   "id": "fb8d4e92-f658-415c-8a78-8b4b1a5899c0",
   "metadata": {},
   "source": [
    "Ans: Inheritance allows us to define a class that inherits all the methods and properties from another class. \n",
    "Parent class is the class being inherited from, also called base class. Child class is the class that inherits from \n",
    "another class, also called derived class."
   ]
  },
  {
   "cell_type": "code",
   "execution_count": 2,
   "id": "f102fa17-da19-404c-8c23-5d9b2a5e552f",
   "metadata": {},
   "outputs": [
    {
     "name": "stdout",
     "output_type": "stream",
     "text": [
      "10\n",
      "male\n"
     ]
    }
   ],
   "source": [
    "class test1: #parent class\n",
    "    age = 10\n",
    "class test2(test1): # child class\n",
    "    sex = 'male'\n",
    "\n",
    "rohan = test2() #object of child class\n",
    "print(rohan.age) # attribute inherited from parent class\n",
    "print(rohan.sex) # attribute of child class\n",
    "\n"
   ]
  },
  {
   "cell_type": "code",
   "execution_count": null,
   "id": "5a585ee3-1c03-4fb1-9285-ee936f48857c",
   "metadata": {},
   "outputs": [],
   "source": []
  }
 ],
 "metadata": {
  "kernelspec": {
   "display_name": "Python 3 (ipykernel)",
   "language": "python",
   "name": "python3"
  },
  "language_info": {
   "codemirror_mode": {
    "name": "ipython",
    "version": 3
   },
   "file_extension": ".py",
   "mimetype": "text/x-python",
   "name": "python",
   "nbconvert_exporter": "python",
   "pygments_lexer": "ipython3",
   "version": "3.10.8"
  }
 },
 "nbformat": 4,
 "nbformat_minor": 5
}
