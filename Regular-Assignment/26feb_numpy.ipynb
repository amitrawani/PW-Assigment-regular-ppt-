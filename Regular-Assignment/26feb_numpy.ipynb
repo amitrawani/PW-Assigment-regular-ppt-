{
 "cells": [
  {
   "cell_type": "markdown",
   "id": "d6dfdb6d-b29a-43db-a954-f32ce9fa26f9",
   "metadata": {},
   "source": [
    "# NUMPY ASSIGNMENTS"
   ]
  },
  {
   "cell_type": "code",
   "execution_count": 2,
   "id": "4e384610-27f0-4520-808f-dd817b53b036",
   "metadata": {},
   "outputs": [],
   "source": [
    "# Consider the below code to answer further questions:\n",
    "\n",
    "import numpy as np\n",
    "list_ = [ '1','2','3','4','5' ]\n",
    "array_list = np.array(object = list_)"
   ]
  },
  {
   "cell_type": "markdown",
   "id": "ec2dd166-c102-4aef-9307-3b9b5d60e644",
   "metadata": {},
   "source": [
    "Q1. Is there any difference in the data type of variables list_ and array_list? If there is then write a code\n",
    "to print the data types of both the variables."
   ]
  },
  {
   "cell_type": "markdown",
   "id": "f9b557fa-98b5-4532-bed1-a74daf6aa640",
   "metadata": {},
   "source": [
    "Yes there is a difference\n",
    "\n",
    "A list in Python is a collection of items which can contain elements of multiple data types, which may be either numeric, \n",
    "character logical values, etc.\n",
    "\n",
    "An array is a vector containing homogeneous elements i.e. belonging to the same data type. Elements are allocated with contiguous\n",
    "memory locations allowing easy modification, that is, addition, deletion, accessing of elements. Numpy arrays are ndarrays which \n",
    "means they are n dimensional arrays\n"
   ]
  },
  {
   "cell_type": "code",
   "execution_count": 4,
   "id": "d491a4de-4381-4b4d-99e5-f2a6c1a32fdc",
   "metadata": {},
   "outputs": [
    {
     "name": "stdout",
     "output_type": "stream",
     "text": [
      "<class 'list'>\n",
      "<class 'numpy.ndarray'>\n"
     ]
    }
   ],
   "source": [
    "print(type(list_))\n",
    "print(type(array_list))"
   ]
  },
  {
   "cell_type": "markdown",
   "id": "562c320e-6c5f-4c63-a6da-973b082ed851",
   "metadata": {},
   "source": [
    "Q2. Write a code to print the data type of each and every element of both the variables list_ and arra_list.\n"
   ]
  },
  {
   "cell_type": "code",
   "execution_count": 5,
   "id": "7f002e04-a337-45e3-8425-b47d2a9e55c7",
   "metadata": {},
   "outputs": [
    {
     "name": "stdout",
     "output_type": "stream",
     "text": [
      "1 <class 'str'>\n",
      "2 <class 'str'>\n",
      "3 <class 'str'>\n",
      "4 <class 'str'>\n",
      "5 <class 'str'>\n",
      "1 <class 'numpy.str_'>\n",
      "2 <class 'numpy.str_'>\n",
      "3 <class 'numpy.str_'>\n",
      "4 <class 'numpy.str_'>\n",
      "5 <class 'numpy.str_'>\n"
     ]
    }
   ],
   "source": [
    "for i in list_:\n",
    "    print(i,type(i))\n",
    "for i in array_list:\n",
    "    print(i,type(i))"
   ]
  },
  {
   "cell_type": "markdown",
   "id": "075e5587-8a53-4dc3-aed4-18b67183363d",
   "metadata": {},
   "source": [
    "Q3. Considering the following changes in the variable, array_list:\n"
   ]
  },
  {
   "cell_type": "code",
   "execution_count": 6,
   "id": "ca450379-4519-4778-b580-43d3f2c91885",
   "metadata": {},
   "outputs": [],
   "source": [
    "array_list = np.array(object = list_, dtype = int)"
   ]
  },
  {
   "cell_type": "markdown",
   "id": "5fb3e33c-f7ae-44fb-9b4d-da0ced0e53eb",
   "metadata": {},
   "source": [
    "Will there be any difference in the data type of the elements present in both the variables, list_ and arra_list? If so then print \n",
    "the data types of each and every element present in both the variables, list_ and arra_list.\n",
    "\n",
    "Yes, there is a difference. Elements in list_ are of string type. But elements in arr_list will be integer type"
   ]
  },
  {
   "cell_type": "code",
   "execution_count": 7,
   "id": "6d8d2c2d-b1ae-422d-a1af-d0eb0a007d87",
   "metadata": {},
   "outputs": [
    {
     "name": "stdout",
     "output_type": "stream",
     "text": [
      "1 <class 'str'>\n",
      "2 <class 'str'>\n",
      "3 <class 'str'>\n",
      "4 <class 'str'>\n",
      "5 <class 'str'>\n",
      "1 <class 'numpy.int64'>\n",
      "2 <class 'numpy.int64'>\n",
      "3 <class 'numpy.int64'>\n",
      "4 <class 'numpy.int64'>\n",
      "5 <class 'numpy.int64'>\n"
     ]
    }
   ],
   "source": [
    "for i in list_:\n",
    "    print(i,type(i))\n",
    "for i in array_list:\n",
    "    print(i,type(i))"
   ]
  },
  {
   "cell_type": "code",
   "execution_count": 8,
   "id": "17a3e109-5bc5-4ec7-b05b-be118099bfaf",
   "metadata": {},
   "outputs": [],
   "source": [
    "#Consider the below code to answer further questions:\n",
    "import numpy as np\n",
    "num_list = [ [ 1 , 2 , 3 ] , [ 4 , 5 , 6 ] ]\n",
    "num_array = np.array(object = num_list)"
   ]
  },
  {
   "cell_type": "markdown",
   "id": "f8cf30d8-d558-416f-a38a-9e037efc70dd",
   "metadata": {},
   "source": [
    "Q4. Write a code to find the following characteristics of variable, num_array:\n",
    "(i) shape\n",
    "(ii) size\n"
   ]
  },
  {
   "cell_type": "code",
   "execution_count": 9,
   "id": "8c6d3fb3-ee09-4c3e-9bb5-1eea509d9d5c",
   "metadata": {},
   "outputs": [
    {
     "name": "stdout",
     "output_type": "stream",
     "text": [
      "Shape is: (2, 3)\n",
      "Size is: 6\n"
     ]
    }
   ],
   "source": [
    "print(\"Shape is:\",num_array.shape)\n",
    "print(\"Size is:\",num_array.size)"
   ]
  },
  {
   "cell_type": "markdown",
   "id": "47aae07d-e9f0-4fa7-a57e-bccf2b8dcd9c",
   "metadata": {},
   "source": [
    "Q5. Write a code to create numpy array of 3*3 matrix containing zeros only, using a numpy array creation function.\n",
    "[Hint: The size of the array will be 9 and the shape will be (3,3).]\n"
   ]
  },
  {
   "cell_type": "code",
   "execution_count": 12,
   "id": "268f691f-7e07-4675-a15d-1f5ac1c489f0",
   "metadata": {},
   "outputs": [
    {
     "data": {
      "text/plain": [
       "array([[0., 0., 0.],\n",
       "       [0., 0., 0.],\n",
       "       [0., 0., 0.]])"
      ]
     },
     "execution_count": 12,
     "metadata": {},
     "output_type": "execute_result"
    }
   ],
   "source": [
    "np.zeros((3,3))"
   ]
  },
  {
   "cell_type": "markdown",
   "id": "a8aad4bf-8cea-48a3-b437-c3a1fd115208",
   "metadata": {},
   "source": [
    "Q6. Create an identity matrix of shape (5,5) using numpy functions?\n",
    "[Hint: An identity matrix is a matrix containing 1 diagonally and other elements will be 0.]"
   ]
  },
  {
   "cell_type": "code",
   "execution_count": 13,
   "id": "94cd7e83-4aed-4da9-9a4c-c2c606c13c19",
   "metadata": {},
   "outputs": [
    {
     "data": {
      "text/plain": [
       "array([[1., 0., 0., 0., 0.],\n",
       "       [0., 1., 0., 0., 0.],\n",
       "       [0., 0., 1., 0., 0.],\n",
       "       [0., 0., 0., 1., 0.],\n",
       "       [0., 0., 0., 0., 1.]])"
      ]
     },
     "execution_count": 13,
     "metadata": {},
     "output_type": "execute_result"
    }
   ],
   "source": [
    "np.eye(5)"
   ]
  },
  {
   "cell_type": "code",
   "execution_count": null,
   "id": "b9140d6a-de6a-4aa1-8a04-0792b2049f47",
   "metadata": {},
   "outputs": [],
   "source": []
  }
 ],
 "metadata": {
  "kernelspec": {
   "display_name": "Python 3 (ipykernel)",
   "language": "python",
   "name": "python3"
  },
  "language_info": {
   "codemirror_mode": {
    "name": "ipython",
    "version": 3
   },
   "file_extension": ".py",
   "mimetype": "text/x-python",
   "name": "python",
   "nbconvert_exporter": "python",
   "pygments_lexer": "ipython3",
   "version": "3.10.8"
  }
 },
 "nbformat": 4,
 "nbformat_minor": 5
}
