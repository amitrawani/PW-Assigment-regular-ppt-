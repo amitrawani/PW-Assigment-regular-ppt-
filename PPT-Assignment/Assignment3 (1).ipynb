{
 "cells": [
  {
   "cell_type": "markdown",
   "id": "765ea42d-d32d-4b22-a60c-b1d8d5e41b29",
   "metadata": {},
   "source": [
    "# Assignment Questions 3 "
   ]
  },
  {
   "cell_type": "markdown",
   "id": "21b5e513-ea20-44df-bba7-4de281b87673",
   "metadata": {},
   "source": [
    "Question 1\n",
    "Given an integer array nums of length n and an integer target, find three integers\n",
    "in nums such that the sum is closest to the target.\n",
    "Return the sum of the three integers.\n",
    "\n",
    "You may assume that each input would have exactly one solution.\n",
    "\n",
    "Example 1:\n",
    "Input: nums = [-1,2,1,-4], target = 1\n",
    "Output: 2\n",
    "\n",
    "Explanation: The sum that is closest to the target is 2. (-1 + 2 + 1 = 2)."
   ]
  },
  {
   "cell_type": "code",
   "execution_count": 1,
   "id": "0ee1efbc-092a-416d-93ca-9dc1d604011d",
   "metadata": {},
   "outputs": [
    {
     "data": {
      "text/plain": [
       "2"
      ]
     },
     "execution_count": 1,
     "metadata": {},
     "output_type": "execute_result"
    }
   ],
   "source": [
    "\n",
    "\n",
    "nums = [-1,2,1,-4]\n",
    "target = 1\n",
    "def threeSumClosest(nums, target):\n",
    "        nums.sort()\n",
    "        n = len(nums)\n",
    "        closest_sum = nums[0] + nums[1] + nums[2] # initialize closest sum\n",
    "        for i in range(n - 2):\n",
    "            left, right = i + 1, n - 1\n",
    "            while left < right: # two-pointer approach\n",
    "                sum = nums[i] + nums[left] + nums[right]\n",
    "                if sum == target: # sum equals target, return immediately\n",
    "                    return sum\n",
    "                elif sum < target:\n",
    "                    left += 1\n",
    "                else:\n",
    "                    right -= 1\n",
    "                if abs(sum - target) < abs(closest_sum - target): # update closest sum\n",
    "                    closest_sum = sum\n",
    "        return closest_sum\n",
    "threeSumClosest(nums , target)\n",
    "\n"
   ]
  },
  {
   "cell_type": "code",
   "execution_count": null,
   "id": "b6b61e63-cee5-4f6d-9098-58181f8db287",
   "metadata": {},
   "outputs": [],
   "source": []
  },
  {
   "cell_type": "markdown",
   "id": "29570d01-0b7f-489b-955e-e2fa0021bc44",
   "metadata": {},
   "source": [
    "Question 2\n",
    "Given an array nums of n integers, return an array of all the unique quadruplets\n",
    "[nums[a], nums[b], nums[c], nums[d]] such that:\n",
    "           ● 0 <= a, b, c, d < n\n",
    "           ● a, b, c, and d are distinct.\n",
    "           ● nums[a] + nums[b] + nums[c] + nums[d] == target\n",
    "\n",
    "You may return the answer in any order.\n",
    "\n",
    "Example 1:\n",
    "Input: nums = [1,0,-1,0,-2,2], target = 0\n",
    "Output: [[-2,-1,1,2],[-2,0,0,2],[-1,0,0,1]]"
   ]
  },
  {
   "cell_type": "code",
   "execution_count": 6,
   "id": "33015d70-77b3-4d1a-bf8a-d7283b31ccae",
   "metadata": {},
   "outputs": [
    {
     "data": {
      "text/plain": [
       "{(2, 2, 2, 2)}"
      ]
     },
     "execution_count": 6,
     "metadata": {},
     "output_type": "execute_result"
    }
   ],
   "source": [
    "nums = [2,2,2,2,2]\n",
    "target = 8\n",
    "def fourSumClosest(nums, target):\n",
    "    ans = set()\n",
    "    nums.sort()\n",
    "    n = len(nums)\n",
    "    for i in range(n):\n",
    "        for j in range(i+1,n):\n",
    "            left, right = j + 1, n - 1\n",
    "            while left < right: # two-pointer approach\n",
    "                sum = nums[i] + nums[j] + nums[left] + nums[right]\n",
    "                if sum == target: # sum equals target, return immediately\n",
    "                    ans.add((nums[i] , nums[j] , nums[left] , nums[right]))\n",
    "                    left += 1\n",
    "                    right -= 1\n",
    "                elif sum > target:\n",
    "                    right  -= 1\n",
    "                else:\n",
    "                    left += 1\n",
    "    return ans\n",
    "fourSumClosest(nums , target)"
   ]
  },
  {
   "cell_type": "code",
   "execution_count": null,
   "id": "c7346097-eb52-4bbe-93ea-cbec43623a89",
   "metadata": {},
   "outputs": [],
   "source": []
  },
  {
   "cell_type": "markdown",
   "id": "d6a80ca7-a1ee-4e57-a255-1391bb9e8d95",
   "metadata": {},
   "source": [
    "\n",
    "Question 3\n",
    "A permutation of an array of integers is an arrangement of its members into a\n",
    "sequence or linear order.\n",
    "\n",
    "For example, for arr = [1,2,3], the following are all the permutations of arr:\n",
    "[1,2,3], [1,3,2], [2, 1, 3], [2, 3, 1], [3,1,2], [3,2,1].\n",
    "\n",
    "The next permutation of an array of integers is the next lexicographically greater\n",
    "permutation of its integer. More formally, if all the permutations of the array are\n",
    "sorted in one container according to their lexicographical order, then the next\n",
    "permutation of that array is the permutation that follows it in the sorted container.\n",
    "\n",
    "If such an arrangement is not possible, the array must be rearranged as the\n",
    "lowest possible order (i.e., sorted in ascending order).\n",
    "\n",
    "● For example, the next permutation of arr = [1,2,3] is [1,3,2].\n",
    "● Similarly, the next permutation of arr = [2,3,1] is [3,1,2].\n",
    "● While the next permutation of arr = [3,2,1] is [1,2,3] because [3,2,1] does not\n",
    "have a lexicographical larger rearrangement.\n",
    "\n",
    "Given an array of integers nums, find the next permutation of nums.\n",
    "The replacement must be in place and use only constant extra memory.\n",
    "\n",
    "**Example 1:**\n",
    "Input: nums = [1,2,3]\n",
    "Output: [1,3,2]\n",
    "\n"
   ]
  },
  {
   "cell_type": "code",
   "execution_count": 9,
   "id": "58b777f9-cf86-4d9b-a8b9-e681972b4ed0",
   "metadata": {},
   "outputs": [
    {
     "data": {
      "text/plain": [
       "[1, 3, 2]"
      ]
     },
     "execution_count": 9,
     "metadata": {},
     "output_type": "execute_result"
    }
   ],
   "source": [
    "\n",
    "\n",
    "nums = [1,2,3]\n",
    "def nextPermutation(nums: list[int]) -> list:\n",
    "    i=len(nums)-1\n",
    "    while i>0 and nums[i-1]>=nums[i]:\n",
    "        i=i-1\n",
    "    if i<1:\n",
    "        nums[:]=nums[::-1]\n",
    "    else:\n",
    "        j=len(nums)-1 #last element \n",
    "        #we have to find element from last that is greater than nums[i-1]\n",
    "        while nums[j]<=nums[i-1]:\n",
    "            j=j-1\n",
    "        nums[i-1], nums[j]= nums[j], nums[i-1]\n",
    "        nums[i:]=reversed(nums[i:])\n",
    "    return nums\n",
    "nextPermutation(nums)\n",
    "\n"
   ]
  },
  {
   "cell_type": "code",
   "execution_count": null,
   "id": "5f3707e6-fd60-469d-9be7-6712eed76bec",
   "metadata": {},
   "outputs": [],
   "source": []
  },
  {
   "cell_type": "markdown",
   "id": "ee19642b-2c68-4fe8-9dc0-d2b2043b64c2",
   "metadata": {},
   "source": [
    "Question 4\n",
    "Given a sorted array of distinct integers and a target value, return the index if the\n",
    "target is found. If not, return the index where it would be if it were inserted in\n",
    "order.\n",
    "\n",
    "You must write an algorithm with O(log n) runtime complexity.\n",
    "\n",
    "Example 1:\n",
    "Input: nums = [1,3,5,6], target = 5\n",
    "Output: 2"
   ]
  },
  {
   "cell_type": "code",
   "execution_count": 11,
   "id": "7e132c4d-6333-4995-8d26-dca0b25c8201",
   "metadata": {},
   "outputs": [
    {
     "data": {
      "text/plain": [
       "2"
      ]
     },
     "execution_count": 11,
     "metadata": {},
     "output_type": "execute_result"
    }
   ],
   "source": [
    "nums = [1,3,5,6]\n",
    "target = 4\n",
    "def searchInsert(nums: list[int], target: int) -> int:\n",
    "    for index , value in enumerate(nums):\n",
    "        if value >= target:\n",
    "            return index\n",
    "    return len(nums)\n",
    "searchInsert(nums,target)\n",
    "\n"
   ]
  },
  {
   "cell_type": "code",
   "execution_count": null,
   "id": "a019a75d-580a-4541-a738-40a61b9fa534",
   "metadata": {},
   "outputs": [],
   "source": []
  },
  {
   "cell_type": "markdown",
   "id": "519a883d-2bec-4b4a-854a-4064135e5831",
   "metadata": {},
   "source": [
    "**Question 5**\n",
    "You are given a large integer represented as an integer array digits, where each\n",
    "digits[i] is the ith digit of the integer. The digits are ordered from most significant\n",
    "to least significant in left-to-right order. The large integer does not contain any\n",
    "leading 0's.\n",
    "\n",
    "Increment the large integer by one and return the resulting array of digits.\n",
    "\n",
    "**Example 1:**\n",
    "Input: digits = [1,2,3]\n",
    "Output: [1,2,4]\n",
    "\n",
    "**Explanation:** The array represents the integer 123.\n",
    "Incrementing by one gives 123 + 1 = 124.\n",
    "Thus, the result should be [1,2,4].\n",
    "\n"
   ]
  },
  {
   "cell_type": "code",
   "execution_count": 12,
   "id": "591dc787-88ba-486c-9f56-3628a86cbd9d",
   "metadata": {},
   "outputs": [
    {
     "data": {
      "text/plain": [
       "[1, 2, 4]"
      ]
     },
     "execution_count": 12,
     "metadata": {},
     "output_type": "execute_result"
    }
   ],
   "source": [
    "\n",
    "digits = [1,2,3]\n",
    "def plusOne(digits: list[int]) -> list[int]:\n",
    "        sums = digits[-1] + 1\n",
    "        carry = 1 if sums > 9 else 0\n",
    "        digits[-1] = 0 if sums > 9 else sums\n",
    "\n",
    "        for i in range(len(digits)-2 , -1, -1):\n",
    "            if digits[i] + carry > 9:\n",
    "                carry = 1\n",
    "                digits[i] = 0\n",
    "\n",
    "            else:\n",
    "                digits[i] = digits[i] + carry\n",
    "                carry = 0\n",
    "            \n",
    "        if carry == 1:\n",
    "            digits.insert(0,1)\n",
    "\n",
    "        return digits\n",
    "plusOne(digits)\n",
    "\n"
   ]
  },
  {
   "cell_type": "code",
   "execution_count": null,
   "id": "08ee36e4-a033-403e-a6e7-78aaa5b4baf7",
   "metadata": {},
   "outputs": [],
   "source": []
  },
  {
   "cell_type": "markdown",
   "id": "1be45ad9-c4ba-4213-af5f-66d7b9e496f9",
   "metadata": {},
   "source": [
    "**Question 6**\n",
    "Given a non-empty array of integers nums, every element appears twice except\n",
    "for one. Find that single one.\n",
    "\n",
    "You must implement a solution with a linear runtime complexity and use only\n",
    "constant extra space.\n",
    "\n",
    "Example 1:\n",
    "Input: nums = [2,2,1]\n",
    "Output: 1"
   ]
  },
  {
   "cell_type": "code",
   "execution_count": 13,
   "id": "1f227872-254f-4e0c-9945-847c3bcf3a6f",
   "metadata": {},
   "outputs": [
    {
     "data": {
      "text/plain": [
       "1"
      ]
     },
     "execution_count": 13,
     "metadata": {},
     "output_type": "execute_result"
    }
   ],
   "source": [
    "nums = [2,2,1]\n",
    "def singleNumber(nums: list[int]) -> int:\n",
    "        # Initialize the unique number...\n",
    "        uniqNum = 0\n",
    "        # TRaverse all elements through the loop...\n",
    "        for idx in nums:\n",
    "            # Concept of XOR...\n",
    "            uniqNum ^= idx\n",
    "        return uniqNum;       # Return the unique number...\n",
    "singleNumber(nums)"
   ]
  },
  {
   "cell_type": "code",
   "execution_count": null,
   "id": "e095d338-345b-4564-82e3-fab1eb5a545d",
   "metadata": {},
   "outputs": [],
   "source": []
  },
  {
   "cell_type": "markdown",
   "id": "a84dedbf-e1fe-4b87-babb-ea04a07fb39c",
   "metadata": {},
   "source": [
    "**Question 7**\n",
    "You are given an inclusive range [lower, upper] and a sorted unique integer array\n",
    "nums, where all elements are within the inclusive range.\n",
    "\n",
    "A number x is considered missing if x is in the range [lower, upper] and x is not in\n",
    "nums.\n",
    "\n",
    "Return the shortest sorted list of ranges that exactly covers all the missing\n",
    "numbers. That is, no element of nums is included in any of the ranges, and each\n",
    "missing number is covered by one of the ranges.\n",
    "\n",
    "Example 1:\n",
    "Input: nums = [0,1,3,50,75], lower = 0, upper = 99\n",
    "Output: [[2,2],[4,49],[51,74],[76,99]]\n",
    "\n",
    "Explanation: The ranges are:\n",
    "[2,2]\n",
    "[4,49]\n",
    "[51,74]\n",
    "[76,99]"
   ]
  },
  {
   "cell_type": "code",
   "execution_count": 15,
   "id": "55a4fc5d-ecfe-470e-b47e-b53022e00ab4",
   "metadata": {},
   "outputs": [
    {
     "data": {
      "text/plain": [
       "[[2, 2], [4, 49], [51, 74], [76, 99]]"
      ]
     },
     "execution_count": 15,
     "metadata": {},
     "output_type": "execute_result"
    }
   ],
   "source": [
    "\n",
    "nums = [0,1,3,50,75]\n",
    "def findMissingRanges(nums: list[int], lower: int, upper: int) -> list[str]:\n",
    "\n",
    "        n = len(nums)\n",
    "        if n == 0:\n",
    "            return [(lower, upper)]\n",
    "        ans = []\n",
    "        if nums[0] > lower:\n",
    "            ans.append([lower, nums[0] - 1])\n",
    "        for i in range(1,len(nums)):\n",
    "            if nums[i] - nums[i-1] > 1:\n",
    "                ans.append([nums[i-1] + 1, nums[i] - 1])\n",
    "        if nums[-1] < upper:\n",
    "            ans.append([nums[-1] + 1, upper])\n",
    "        return ans\n",
    "findMissingRanges(nums,0,99)                     \n",
    "        \n",
    "\n"
   ]
  },
  {
   "cell_type": "code",
   "execution_count": null,
   "id": "6f9bb583-fffd-419d-9c75-8d6334856a47",
   "metadata": {},
   "outputs": [],
   "source": []
  },
  {
   "cell_type": "code",
   "execution_count": null,
   "id": "85106a66-f012-4478-9648-2b6dbf51994c",
   "metadata": {},
   "outputs": [],
   "source": [
    "**Question 8**\n",
    "Given an array of meeting time intervals where intervals[i] = [starti, endi],\n",
    "determine if a person could attend all meetings.\n",
    "\n",
    "Example 1:\n",
    "Input: intervals = [[0,30],[5,10],[15,20]]\n",
    "Output: false"
   ]
  }
 ],
 "metadata": {
  "kernelspec": {
   "display_name": "Python 3 (ipykernel)",
   "language": "python",
   "name": "python3"
  },
  "language_info": {
   "codemirror_mode": {
    "name": "ipython",
    "version": 3
   },
   "file_extension": ".py",
   "mimetype": "text/x-python",
   "name": "python",
   "nbconvert_exporter": "python",
   "pygments_lexer": "ipython3",
   "version": "3.10.8"
  }
 },
 "nbformat": 4,
 "nbformat_minor": 5
}
