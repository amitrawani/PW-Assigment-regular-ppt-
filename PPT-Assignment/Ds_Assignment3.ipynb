{
 "cells": [
  {
   "cell_type": "markdown",
   "id": "c05cd2e8-caab-4fbd-ad22-ee4970772000",
   "metadata": {},
   "source": [
    "# Ds_Assignment 3"
   ]
  },
  {
   "cell_type": "code",
   "execution_count": 2,
   "id": "bba50e80-23d9-49b5-b3d7-619e61d7ba09",
   "metadata": {},
   "outputs": [],
   "source": [
    "import numpy as np\n",
    "from scipy import stats\n",
    "import warnings\n",
    "warnings.filterwarnings(\"ignore\")"
   ]
  },
  {
   "cell_type": "markdown",
   "id": "7b182071-9af5-4610-96d2-d349130a1ce9",
   "metadata": {},
   "source": [
    "1. Scenario: A company wants to analyze the sales performance of its products in different regions. They have collected the following data:\n",
    "\n",
    "   Region A: [10, 15, 12, 8, 14]\n",
    "   \n",
    "   Region B: [18, 20, 16, 22, 25]\n",
    "   \n",
    "   Calculate the mean sales for each region.\n"
   ]
  },
  {
   "cell_type": "code",
   "execution_count": 3,
   "id": "774f51cf-d958-43ce-9215-770440dfc76a",
   "metadata": {},
   "outputs": [
    {
     "name": "stdout",
     "output_type": "stream",
     "text": [
      "Mean of Region A is: 11.8\n",
      "Mean of Region B is: 20.2\n"
     ]
    }
   ],
   "source": [
    "A = [10, 15, 12, 8, 14]\n",
    "B = [18, 20, 16, 22, 25]\n",
    "print(f\"Mean of Region A is: {np.mean(A)}\")\n",
    "print(f\"Mean of Region B is: {np.mean(B)}\")"
   ]
  },
  {
   "cell_type": "markdown",
   "id": "96303e41-078f-44ee-a1a2-c3b34d20c25b",
   "metadata": {},
   "source": [
    "2. Scenario: A survey is conducted to measure customer satisfaction on a scale of 1 to 5. The data collected is as follows:\n",
    "    \n",
    "   [4, 5, 2, 3, 5, 4, 3, 2, 4, 5]\n",
    "\n",
    "   Calculate the mode of the survey responses\n"
   ]
  },
  {
   "cell_type": "code",
   "execution_count": 4,
   "id": "eec523cf-01e3-4265-afdd-d03e60d66ac0",
   "metadata": {},
   "outputs": [
    {
     "name": "stdout",
     "output_type": "stream",
     "text": [
      "The mode of the survey is: 4\n"
     ]
    }
   ],
   "source": [
    "survey=[4, 5, 2, 3, 5, 4, 3, 2, 4, 5]\n",
    "print(f\"The mode of the survey is: {stats.mode(survey)[0][0]}\")"
   ]
  },
  {
   "cell_type": "markdown",
   "id": "a130a334-8eb7-4da0-9054-62e672ffe1f5",
   "metadata": {},
   "source": [
    "3. Scenario: A company wants to compare the salaries of two departments. The salary data for Department A and Department B are as follows:\n",
    "\n",
    "   Department A: [5000, 6000, 5500, 7000]\n",
    "   \n",
    "   Department B: [4500, 5500, 5800, 6000, 5200]\n",
    "   \n",
    "   Calculate the median salary for each department.\n"
   ]
  },
  {
   "cell_type": "code",
   "execution_count": 5,
   "id": "57b41b5f-e54a-4d6e-b14d-be01ae4da619",
   "metadata": {},
   "outputs": [
    {
     "name": "stdout",
     "output_type": "stream",
     "text": [
      "The median salary for Department A is: 5750.0\n",
      "The median salary for Department B is: 5500.0\n"
     ]
    }
   ],
   "source": [
    "A = [5000, 6000, 5500, 7000]\n",
    "B = [4500, 5500, 5800, 6000, 5200]\n",
    "print(f\"The median salary for Department A is: {np.median(A)}\")\n",
    "print(f\"The median salary for Department B is: {np.median(B)}\")"
   ]
  },
  {
   "cell_type": "markdown",
   "id": "a349fd77-2752-4a0a-a164-256daeddf726",
   "metadata": {},
   "source": [
    "4. Scenario: A data analyst wants to determine the variability in the daily stock prices of a company. The data collected is as follows:\n",
    "    \n",
    "   [25.5, 24.8, 26.1, 25.3, 24.9]\n",
    "\n",
    "   Calculate the range of the stock prices.\n"
   ]
  },
  {
   "cell_type": "code",
   "execution_count": 6,
   "id": "039c1d9d-73c8-4407-8ecb-fcd7d48e3d71",
   "metadata": {},
   "outputs": [
    {
     "name": "stdout",
     "output_type": "stream",
     "text": [
      "Range of stock prices is: 1.3\n"
     ]
    }
   ],
   "source": [
    "A = [25.5, 24.8, 26.1, 25.3, 24.9]\n",
    "print(f\"Range of stock prices is: {round((max(A) - min(A)),2)}\")\n"
   ]
  },
  {
   "cell_type": "markdown",
   "id": "2b4ae70b-ed87-466e-b5bc-4c50be75cb7e",
   "metadata": {},
   "source": [
    "5. Scenario: A study is conducted to compare the performance of two different teaching methods. The test scores of the students in each group are \n",
    "as follows:\n",
    "    \n",
    "   Group A: [85, 90, 92, 88, 91]\n",
    "\n",
    "   Group B: [82, 88, 90, 86, 87]\n",
    "    \n",
    "   Perform a t-test to determine if there is a significant difference in the mean scores between the two groups\n"
   ]
  },
  {
   "cell_type": "code",
   "execution_count": 7,
   "id": "8caaf640-181e-43c3-ae22-076cd6c95180",
   "metadata": {},
   "outputs": [
    {
     "name": "stdout",
     "output_type": "stream",
     "text": [
      "P value is 0.19023970239078333: Failed to reject Null hypothesis. There is no significant difference in the mean scores between the groups\n"
     ]
    }
   ],
   "source": [
    "A = [85, 90, 92, 88, 91]\n",
    "B = [82, 88, 90, 86, 87]\n",
    "_ , p_val = stats.ttest_ind(A,B)\n",
    "alpha = 0.05\n",
    "if p_val < alpha:\n",
    "    print(f\"P value is {p_val}: Null hypothesis rejected . There is a significant difference in the mean scores between the groups\")\n",
    "else:\n",
    "    print(f\"P value is {p_val}: Failed to reject Null hypothesis. There is no significant difference in the mean scores between the groups\")"
   ]
  },
  {
   "cell_type": "markdown",
   "id": "e4300ebb-f8d5-4319-9333-82daf895647e",
   "metadata": {},
   "source": [
    "6. Scenario: A company wants to analyze the relationship between advertising expenditure and sales. The data collected is as follows:\n",
    "    \n",
    "   Advertising Expenditure (in thousands): [10, 15, 12, 8, 14]\n",
    "\n",
    "   Sales (in thousands): [25, 30, 28, 20, 26]\n",
    "    \n",
    "   Calculate the correlation coefficient between advertising expenditure and sales.\n"
   ]
  },
  {
   "cell_type": "code",
   "execution_count": 8,
   "id": "2a6bfe48-a43c-42e8-811d-f33ade4d764a",
   "metadata": {},
   "outputs": [
    {
     "name": "stdout",
     "output_type": "stream",
     "text": [
      "The correlation coefficient between the Advertising Expenditure and the Sales is: 0.8757511375750132\n"
     ]
    }
   ],
   "source": [
    "ad_exp = [10, 15, 12, 8, 14]\n",
    "sales = [25, 30, 28, 20, 26]\n",
    "c = np.corrcoef(ad_exp,sales)\n",
    "print(f\"The correlation coefficient between the Advertising Expenditure and the Sales is: {c[0][1]}\")\n",
    "\n"
   ]
  },
  {
   "cell_type": "markdown",
   "id": "f0820f14-50f1-4b28-8faa-9416cfd63831",
   "metadata": {},
   "source": [
    "7. Scenario: A survey is conducted to measure the heights of a group of people. The data collected is as follows:\n",
    "    \n",
    "   [160, 170, 165, 155, 175, 180, 170]\n",
    "\n",
    "   Calculate the standard deviation of the heights.\n"
   ]
  },
  {
   "cell_type": "code",
   "execution_count": 9,
   "id": "02c3cec2-2e0f-43cb-bbd5-348b8f574da0",
   "metadata": {},
   "outputs": [
    {
     "name": "stdout",
     "output_type": "stream",
     "text": [
      "The standard deviation of the height is :7.953949089757174\n"
     ]
    }
   ],
   "source": [
    "height = [160, 170, 165, 155, 175, 180, 170]\n",
    "print(f\"The standard deviation of the height is :{np.std(height)}\")\n"
   ]
  },
  {
   "cell_type": "markdown",
   "id": "ee705c12-1f22-4f49-a11c-63ec93310880",
   "metadata": {},
   "source": [
    "8. Scenario: A company wants to analyze the relationship between employee tenure and job satisfaction. The data collected is as follows:\n",
    "    \n",
    "   Employee Tenure (in years): [2, 3, 5, 4, 6, 2, 4]\n",
    "\n",
    "   Job Satisfaction (on a scale of 1 to 10): [7, 8, 6, 9, 5, 7, 6]\n",
    "    \n",
    "   Perform a linear regression analysis to predict job satisfaction based on employee tenure.\n"
   ]
  },
  {
   "cell_type": "code",
   "execution_count": 10,
   "id": "e30697dd-0b1b-4f56-b407-91c8db05e746",
   "metadata": {},
   "outputs": [
    {
     "name": "stdout",
     "output_type": "stream",
     "text": [
      "The linear equation for prediction of Job Satisfaction from Employee Tenure by ordinary least squares is:\n",
      "Job Satisfaction = -0.4680851063829787* Employee Tenure + 8.595744680851062\n",
      "The p-values is: 0.23095550952297988\n"
     ]
    }
   ],
   "source": [
    "Tenure = [2, 3, 5, 4, 6, 2, 4]\n",
    "Satisfaction = [7, 8, 6, 9, 5, 7, 6]\n",
    "result = stats.linregress(Tenure,Satisfaction)\n",
    "print(\"The linear equation for prediction of Job Satisfaction from Employee Tenure by ordinary least squares is:\")\n",
    "print(f\"Job Satisfaction = {result.slope}* Employee Tenure + {result.intercept}\")\n",
    "print(f\"The p-values is: {result.pvalue}\")"
   ]
  },
  {
   "cell_type": "markdown",
   "id": "ef092d31-726e-41ce-8107-6366db8d7914",
   "metadata": {},
   "source": [
    "9. Scenario: A study is conducted to compare the effectiveness of two different medications. The recovery times of the patients in each group \n",
    "are as follows:\n",
    "    \n",
    "   Medication A: [10, 12, 14, 11, 13]\n",
    "\n",
    "   Medication B: [15, 17, 16, 14, 18]\n",
    "    \n",
    "   Perform an analysis of variance (ANOVA) to determine if there is a significant difference in the mean recovery times between the two medications.\n"
   ]
  },
  {
   "cell_type": "code",
   "execution_count": 11,
   "id": "eedb179a-a32b-453f-8004-e6ba46fd2df5",
   "metadata": {},
   "outputs": [
    {
     "name": "stdout",
     "output_type": "stream",
     "text": [
      "P value is 0.003949772803445326: Null hypothesis rejected . There is a significant difference in the mean recovery times between the two medications.\n"
     ]
    }
   ],
   "source": [
    "med_A = [10, 12, 14, 11, 13]\n",
    "med_B = [15, 17, 16, 14, 18]\n",
    "_ , p_val = stats.f_oneway(med_A, med_B)\n",
    "alpha = 0.05\n",
    "if p_val < alpha:\n",
    "    print(f\"P value is {p_val}: Null hypothesis rejected . There is a significant difference in the mean recovery times between the two medications.\")\n",
    "else:\n",
    "    print(f\"P value is {p_val}: Failed to reject Null hypothesis. There is no significant difference in the mean recovery times between the tweo medication.\")"
   ]
  },
  {
   "cell_type": "markdown",
   "id": "44fe134a-356a-44ed-846d-56b1f0d612d7",
   "metadata": {},
   "source": [
    "10. Scenario: A company wants to analyze customer feedback ratings on a scale of 1 to 10. The data collected is\n",
    "\n",
    " as follows:\n",
    "        \n",
    "    [8, 9, 7, 6, 8, 10, 9, 8, 7, 8]\n",
    "    \n",
    "    Calculate the 75th percentile of the feedback ratings.\n"
   ]
  },
  {
   "cell_type": "code",
   "execution_count": 12,
   "id": "10041d36-8b10-44da-b8d6-443632fea57b",
   "metadata": {},
   "outputs": [
    {
     "name": "stdout",
     "output_type": "stream",
     "text": [
      "The 75th percentile is: 8.75\n"
     ]
    }
   ],
   "source": [
    "rating = [8, 9, 7, 6, 8, 10, 9, 8, 7, 8]\n",
    "print(f\"The 75th percentile is: {np.percentile(rating,75)}\")"
   ]
  },
  {
   "cell_type": "markdown",
   "id": "8dc8de95-72d7-4f93-aa74-9993bcaa4cec",
   "metadata": {},
   "source": [
    "11. Scenario: A quality control department wants to test the weight consistency of a product. The weights of a sample of products are as follows:\n",
    "    \n",
    "    [10.2, 9.8, 10.0, 10.5, 10.3, 10.1]\n",
    "    \n",
    "    Perform a hypothesis test to determine if the mean weight differs significantly from 10 grams.\n"
   ]
  },
  {
   "cell_type": "code",
   "execution_count": 13,
   "id": "b0245bff-030e-4841-9acd-c40c06623de0",
   "metadata": {},
   "outputs": [
    {
     "name": "stdout",
     "output_type": "stream",
     "text": [
      "P value is 0.19077595151110102: Failed to reject Null hypothesis. Mean weight does not differ significantly from 10 grams.\n"
     ]
    }
   ],
   "source": [
    "weight = [10.2, 9.8, 10.0, 10.5, 10.3, 10.1]\n",
    "result = stats.ttest_1samp(weight , 10)\n",
    "alpha = 0.05\n",
    "if result.pvalue < alpha: \n",
    "    print(f\"P value is {result.pvalue}: Null hypothesis rejected . Mean weight differs significantly from 10 grams.\")\n",
    "else:\n",
    "    print(f\"P value is {result.pvalue}: Failed to reject Null hypothesis. Mean weight does not differ significantly from 10 grams.\")"
   ]
  },
  {
   "cell_type": "markdown",
   "id": "9ff09492-dc4e-4f4c-b0e7-7b89e9ccee88",
   "metadata": {},
   "source": [
    "12. Scenario: A company wants to analyze the click-through rates of two different website designs. The number of clicks for each design is as follows:\n",
    "    \n",
    "    Design A: [100, 120, 110, 90, 95]\n",
    "    \n",
    "    Design B: [80, 85, 90, 95, 100]\n",
    "    \n",
    "    Perform a chi-square test to determine if there is a significant difference in the click-through rates between the two designs\n"
   ]
  },
  {
   "cell_type": "code",
   "execution_count": 19,
   "id": "f2ace6e0-cd0e-4738-b1a6-4b0641d603ee",
   "metadata": {},
   "outputs": [
    {
     "name": "stdout",
     "output_type": "stream",
     "text": [
      "P-value is 0.19103526314060293: Failed to reject the null hypothesis. There is no significant difference in the click-through rates between the two designs.\n"
     ]
    }
   ],
   "source": [
    "from scipy.stats import chi2_contingency\n",
    "\n",
    "A = [100, 120, 110, 90, 95]\n",
    "B = [80, 85, 90, 95, 100]\n",
    "\n",
    "# Create a contingency table\n",
    "contingency_table = [A, B]\n",
    "\n",
    "# Perform chi-square test\n",
    "chi2, p_value, _, _ = chi2_contingency(contingency_table)\n",
    "\n",
    "alpha = 0.05\n",
    "\n",
    "if p_value < alpha:\n",
    "    print(f\"P-value is {p_value}: Null hypothesis rejected. There is a significant difference in the click-through rates between the two designs.\")\n",
    "else:\n",
    "    print(f\"P-value is {p_value}: Failed to reject the null hypothesis. There is no significant difference in the click-through rates between the two designs.\")\n"
   ]
  },
  {
   "cell_type": "markdown",
   "id": "6a8497aa-dfdb-4231-9d39-f999ba0f3bbe",
   "metadata": {},
   "source": [
    "13. Scenario: A survey is conducted to measure customer satisfaction with a product on a scale of 1 to 10. The data collected is as follows:\n",
    "    \n",
    "    [7, 9, 6, 8, 10, 7, 8, 9, 7, 8]\n",
    "    \n",
    "    Calculate the 95% confidence interval for the population mean satisfaction score.\n"
   ]
  },
  {
   "cell_type": "code",
   "execution_count": 20,
   "id": "8c685a2c-861d-4eef-aa37-a8f1f569e6a7",
   "metadata": {},
   "outputs": [
    {
     "data": {
      "text/plain": [
       "(7.043561120599888, 8.756438879400113)"
      ]
     },
     "execution_count": 20,
     "metadata": {},
     "output_type": "execute_result"
    }
   ],
   "source": [
    "# Since the data is small (<30) we will be using the t-distribution to calculate the 95% confidence interval\n",
    "survey = [7, 9, 6, 8, 10, 7, 8, 9, 7, 8]\n",
    "stats.t.interval(alpha = .95 , df = len(survey)-1,\n",
    "                 loc = np.mean(survey),\n",
    "                 scale = stats.sem(survey))"
   ]
  },
  {
   "cell_type": "markdown",
   "id": "6698ea6c-d35a-404f-b189-08a12782c511",
   "metadata": {},
   "source": [
    "14. Scenario: A company wants to analyze the effect of temperature on product performance. The data collected is as follows:\n",
    "    \n",
    "    Temperature (in degrees Celsius): [20, 22, 23, 19, 21]\n",
    "    \n",
    "    Performance (on a scale of 1 to 10): [8, 7, 9, 6, 8]\n",
    "    \n",
    "    Perform a simple linear regression to predict performance based on temperature.\n"
   ]
  },
  {
   "cell_type": "code",
   "execution_count": 21,
   "id": "11c97c4b-75ae-4e65-bde8-2d16466c4114",
   "metadata": {},
   "outputs": [
    {
     "name": "stdout",
     "output_type": "stream",
     "text": [
      "The linear equation for prediction of Performance from Temperature by ordinary least squares is:\n",
      "Performance = 0.5* Temperature  -2.9000000000000004\n",
      "The p-values is: 0.19417134561205843\n"
     ]
    }
   ],
   "source": [
    "temp = [20, 22, 23, 19, 21]\n",
    "perf = [8, 7, 9, 6, 8]\n",
    "result = stats.linregress(temp,perf)\n",
    "print(\"The linear equation for prediction of Performance from Temperature by ordinary least squares is:\")\n",
    "print(f\"Performance = {result.slope}* Temperature  {result.intercept}\")\n",
    "print(f\"The p-values is: {result.pvalue}\")"
   ]
  },
  {
   "cell_type": "markdown",
   "id": "a14402d7-0b64-415a-8f4a-eea146c2b032",
   "metadata": {},
   "source": [
    "15. Scenario: A study is conducted to compare the preferences of two groups of participants. The preferences are measured on a Likert scale \n",
    "from 1 to 5. The data collected is as follows:\n",
    "    \n",
    "    Group A: [4, 3, 5, 2, 4]\n",
    "    \n",
    "    Group B: [3, 2, 4, 3, 3]\n",
    "    \n",
    "    Perform a Mann-Whitney U test to determine if there is a significant difference in the median preferences between the two groups.\n"
   ]
  },
  {
   "cell_type": "code",
   "execution_count": 22,
   "id": "9906ce2e-a0c9-45ea-b4a0-264cab0613d4",
   "metadata": {},
   "outputs": [
    {
     "name": "stdout",
     "output_type": "stream",
     "text": [
      "P value is 0.380836480306712: Failed to reject Null hypothesis. There is no significant difference in the median preferences between the two groups\n"
     ]
    }
   ],
   "source": [
    "A = [4, 3, 5, 2, 4]\n",
    "B = [3, 2, 4, 3, 3]\n",
    "result = stats.mannwhitneyu(A, B)\n",
    "if result.pvalue < alpha: \n",
    "    print(f\"P value is {result.pvalue}: Null hypothesis rejected . There is a significant difference in the median preferences between the two groups.\")\n",
    "else:\n",
    "    print(f\"P value is {result.pvalue}: Failed to reject Null hypothesis. There is no significant difference in the median preferences between the two groups\")\n"
   ]
  },
  {
   "cell_type": "markdown",
   "id": "a448e289-73af-476f-abe4-e9c1c2dc7474",
   "metadata": {},
   "source": [
    "16. Scenario: A company wants to analyze the distribution of customer ages. The data collected is as follows:\n",
    "    \n",
    "    [25, 30, 35, 40, 45, 50, 55, 60, 65, 70]\n",
    "    \n",
    "    Calculate the interquartile range (IQR) of the ages.\n"
   ]
  },
  {
   "cell_type": "code",
   "execution_count": 23,
   "id": "6de2219c-f667-4f0b-b59f-5c880b215479",
   "metadata": {},
   "outputs": [
    {
     "name": "stdout",
     "output_type": "stream",
     "text": [
      "The IQR is: 20.0\n"
     ]
    }
   ],
   "source": [
    "age = [25, 30, 35, 40, 45, 50, 55, 60, 65, 70]\n",
    "print(f\"The IQR is: {stats.iqr(age , interpolation='midpoint')}\")"
   ]
  },
  {
   "cell_type": "markdown",
   "id": "61f11246-b60d-4586-a82f-f6d043cfe99b",
   "metadata": {},
   "source": [
    "17. Scenario: A study is conducted to compare the performance of three different machine learning algorithms. The accuracy scores for each \n",
    "algorithm are as follows:\n",
    "    \n",
    "    Algorithm A: [0.85, 0.80, 0.82, 0.87, 0.83]\n",
    "    \n",
    "    Algorithm B: [0.78, 0.82, 0.84, 0.80, 0.79]\n",
    "    \n",
    "    Algorithm C: [0.90, 0.88, 0.89, 0.86, 0.87]\n",
    "    \n",
    "    Perform a Kruskal-Wallis test to determine if there is a significant difference in the median accuracy scores between the algorithms.\n"
   ]
  },
  {
   "cell_type": "code",
   "execution_count": 25,
   "id": "80337ede-abb7-4bc8-95d7-3a8edf5ea8c4",
   "metadata": {},
   "outputs": [
    {
     "name": "stdout",
     "output_type": "stream",
     "text": [
      "P value is 0.007840333026249539: Null hypothesis rejected . There is a significant difference in the median accuracy scores between the algorithms.\n"
     ]
    }
   ],
   "source": [
    "A = [0.85, 0.80, 0.82, 0.87, 0.83]\n",
    "B = [0.78, 0.82, 0.84, 0.80, 0.79]\n",
    "C = [0.90, 0.88, 0.89, 0.86, 0.87]\n",
    "_ , p_val = stats.kruskal(A,B,C)\n",
    "alpha = 0.05\n",
    "if p_val < alpha: \n",
    "    print(f\"P value is {p_val}: Null hypothesis rejected . There is a significant difference in the median accuracy scores between the algorithms.\")\n",
    "else:\n",
    "    print(f\"P value is {p_val}: Failed to reject Null hypothesis. There is no significant difference in the median accuracy scores between the algorithms\")\n"
   ]
  },
  {
   "cell_type": "markdown",
   "id": "67354f07-10db-42c0-af9e-d30fddc11148",
   "metadata": {},
   "source": [
    "18. Scenario: A company wants to analyze the effect of price on sales. The data collected is as follows:\n",
    "    \n",
    "    Price (in dollars): [10, 15, 12, 8, 14]\n",
    "    \n",
    "    Sales: [100, 80, 90, 110, 95]\n",
    "    \n",
    "    Perform a simple linear regression to predict sales based on price.\n"
   ]
  },
  {
   "cell_type": "code",
   "execution_count": 26,
   "id": "46a9bf62-870b-4776-bdb6-93fa2c03d855",
   "metadata": {},
   "outputs": [
    {
     "name": "stdout",
     "output_type": "stream",
     "text": [
      "The linear equation for prediction of Sales from Price by ordinary least squares is:\n",
      "Sales = -3.506097560975609* Price +  136.3719512195122\n",
      "The p-values is: 0.03850178234753776\n"
     ]
    }
   ],
   "source": [
    "Price = [10, 15, 12, 8, 14]\n",
    "Sales = [100, 80, 90, 110, 95]\n",
    "result = stats.linregress(Price,Sales)\n",
    "print(\"The linear equation for prediction of Sales from Price by ordinary least squares is:\")\n",
    "print(f\"Sales = {result.slope}* Price +  {result.intercept}\")\n",
    "print(f\"The p-values is: {result.pvalue}\")\n",
    "\n"
   ]
  },
  {
   "cell_type": "markdown",
   "id": "4e68444c-12d7-495c-9388-6b86c1727192",
   "metadata": {},
   "source": [
    "19. Scenario: A survey is conducted to measure the satisfaction levels of customers with a new product. The data collected is as follows:\n",
    "    \n",
    "    [7, 8, 9, 6, 8, 7, 9, 7, 8, 7]\n",
    "    \n",
    "    Calculate the standard error of the mean satisfaction score.\n"
   ]
  },
  {
   "cell_type": "code",
   "execution_count": 27,
   "id": "60da1618-a51c-4bbf-8bb3-a3b05c9b91bc",
   "metadata": {},
   "outputs": [
    {
     "name": "stdout",
     "output_type": "stream",
     "text": [
      "The standard error of mean is : 0.30550504633038933\n"
     ]
    }
   ],
   "source": [
    "survey = [7, 8, 9, 6, 8, 7, 9, 7, 8, 7]\n",
    "print(f\"The standard error of mean is : {stats.sem(survey)}\")"
   ]
  },
  {
   "cell_type": "markdown",
   "id": "5e008dd1-bf15-493a-acd5-31d3a90eb474",
   "metadata": {},
   "source": [
    "20. Scenario: A company wants to analyze the relationship between advertising expenditure and sales. The data collected is as follows:\n",
    "    \n",
    "    Advertising Expenditure (in thousands): [10, 15, 12, 8, 14]\n",
    "    \n",
    "    Sales (in thousands): [25, 30, 28, 20, 26]\n",
    "    \n",
    "    Perform a multiple regression analysis to predict sales based on advertising expenditure.\n"
   ]
  },
  {
   "cell_type": "code",
   "execution_count": 29,
   "id": "2f49a7ec-3843-4d45-ae0e-9d1f2618908a",
   "metadata": {},
   "outputs": [
    {
     "name": "stdout",
     "output_type": "stream",
     "text": [
      "The linear equation for prediction of Sales from Advertising Expenditure by ordinary least squares is:\n",
      "Sales = 1.1524390243902436 * Advertising Expenditure +   12.201219512195125\n",
      "The p-values is: 0.051583194188217135\n"
     ]
    }
   ],
   "source": [
    "ad_exp =  [10, 15, 12, 8, 14]\n",
    "sales =  [25, 30, 28, 20, 26]\n",
    "result = stats.linregress(ad_exp,sales)\n",
    "print(\"The linear equation for prediction of Sales from Advertising Expenditure by ordinary least squares is:\")\n",
    "print(f\"Sales = {result.slope} * Advertising Expenditure +   {result.intercept}\")\n",
    "print(f\"The p-values is: {result.pvalue}\")"
   ]
  },
  {
   "cell_type": "code",
   "execution_count": null,
   "id": "13fd3d35-4386-4c5d-8a15-caf526b0ffc3",
   "metadata": {},
   "outputs": [],
   "source": []
  }
 ],
 "metadata": {
  "kernelspec": {
   "display_name": "Python 3 (ipykernel)",
   "language": "python",
   "name": "python3"
  },
  "language_info": {
   "codemirror_mode": {
    "name": "ipython",
    "version": 3
   },
   "file_extension": ".py",
   "mimetype": "text/x-python",
   "name": "python",
   "nbconvert_exporter": "python",
   "pygments_lexer": "ipython3",
   "version": "3.10.8"
  }
 },
 "nbformat": 4,
 "nbformat_minor": 5
}
