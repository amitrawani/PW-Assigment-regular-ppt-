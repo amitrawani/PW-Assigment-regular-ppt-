{
 "cells": [
  {
   "cell_type": "markdown",
   "id": "7d694fb2-2899-4742-a189-3005d2b81d94",
   "metadata": {},
   "source": [
    "ASSIGNMENT QUESTIONS 2"
   ]
  },
  {
   "cell_type": "markdown",
   "id": "7d12f117-69fa-4938-8c15-f25afe5ece3f",
   "metadata": {},
   "source": [
    "Q1. **Question 1**\n",
    "Given an integer array nums of 2n integers, group these integers into n pairs (a1, b1), (a2, b2),..., (an, bn) such that the sum of \n",
    "min(ai, bi) for all i is maximized. Return the maximized sum.\n",
    "\n",
    "**Example 1:**\n",
    "Input: nums = [1,4,3,2]\n",
    "Output: 4\n",
    "\n",
    "**Explanation:** All possible pairings (ignoring the ordering of elements) are:\n",
    "\n",
    "1. (1, 4), (2, 3) -> min(1, 4) + min(2, 3) = 1 + 2 = 3\n",
    "2. (1, 3), (2, 4) -> min(1, 3) + min(2, 4) = 1 + 2 = 3\n",
    "3. (1, 2), (3, 4) -> min(1, 2) + min(3, 4) = 1 + 3 = 4\n",
    "So the maximum possible sum is 4\n"
   ]
  },
  {
   "cell_type": "code",
   "execution_count": 2,
   "id": "d76d857a-3324-4e60-b9fa-a1e636014f94",
   "metadata": {},
   "outputs": [
    {
     "data": {
      "text/plain": [
       "4"
      ]
     },
     "execution_count": 2,
     "metadata": {},
     "output_type": "execute_result"
    }
   ],
   "source": [
    "nums = [1,4,3,2]\n",
    "def pairSum(nums)->int:\n",
    "    \"\"\"takes an array of 2N integers , groups them\n",
    "    into n pairs such that each the sum of min(ai,bi) for\n",
    "    all ai is maximised\n",
    "\n",
    "    Args:\n",
    "        nums (list): array of 2N integers\n",
    "    \n",
    "    Returns: integer of maximized sum\n",
    "    \"\"\"\n",
    "    return sum(sorted(nums)[::2])\n",
    "pairSum(nums)"
   ]
  },
  {
   "cell_type": "code",
   "execution_count": null,
   "id": "d4dccbd5-0473-4aa8-93b4-2f7583f75790",
   "metadata": {},
   "outputs": [],
   "source": []
  },
  {
   "cell_type": "markdown",
   "id": "756cb46b-f47f-4112-8072-fed2db88843b",
   "metadata": {},
   "source": [
    "Q2. 2 Alice has n candies, where the ith candy is of type candyType[i]. Alice noticed that she started to gain weight, so she visited a doctor.\n",
    "      The doctor advised Alice to only eat n / 2 of the candies she has (n is always even). Alice likes her candies very much, and she wants to eat \n",
    "      the maximum number of different types of candies while still following the doctor's advice.\n",
    "\n",
    "Given the integer array candyType of length n, return the maximum number of different types of candies she can eat if she only eats n / 2 of them.\n",
    "\n",
    "Example 1: Input: candyType = [1,1,2,2,3,3] Output: 3\n",
    "\n",
    "Explanation: Alice can only eat 6 / 2 = 3 candies. Since there are only 3 types, she can eat one of each type."
   ]
  },
  {
   "cell_type": "code",
   "execution_count": 3,
   "id": "943b4ce3-f9c9-4029-a3ee-7ec584f333c1",
   "metadata": {},
   "outputs": [
    {
     "name": "stdout",
     "output_type": "stream",
     "text": [
      "The number of unique candies which alice can have is: 3\n"
     ]
    }
   ],
   "source": [
    "candyType = [1,1,2,2,3,3]\n",
    "\n",
    "def alice_candy(candyType) -> int:\n",
    "    \"\"\"Takes an array of candy numbers which alice has been eating\n",
    "    and returns the maximum number of different candy types she can eat\n",
    "\n",
    "    Args:\n",
    "        candyType (list): array of candy numbers\n",
    "        \n",
    "    Returns: number of different candy types\n",
    "    \"\"\"\n",
    "    result = None\n",
    "    candies = len(candyType)\n",
    "    unique_candy = len(set(candyType))\n",
    "    if unique_candy <= candies//2:\n",
    "        result = unique_candy\n",
    "    else:\n",
    "        result = candies//2\n",
    "    print(f\"The number of unique candies which alice can have is: {result}\")\n",
    "alice_candy(candyType)\n"
   ]
  },
  {
   "cell_type": "code",
   "execution_count": null,
   "id": "6a74e732-760d-47a2-814a-6674ce638a52",
   "metadata": {},
   "outputs": [],
   "source": []
  },
  {
   "cell_type": "markdown",
   "id": "4ad3ec29-b26c-4525-9309-68cf9b1409cd",
   "metadata": {},
   "source": [
    "Q3. We define a harmonious array as an array where the difference between its maximum value and its minimum value is exactly 1.\n",
    "    Given an integer array nums, return the length of its longest harmonious subsequence among all its possible subsequences.\n",
    "    A subsequence of an array is a sequence that can be derived from the array by deleting some or no elements without changing the order of \n",
    "    the remaining elements.\n",
    "\n",
    "Example 1: Input: nums = [1,3,2,2,5,2,3,7] Output: 5\n",
    "\n",
    "Explanation: The longest harmonious subsequence is [3,2,2,2,3]."
   ]
  },
  {
   "cell_type": "code",
   "execution_count": 4,
   "id": "e3c81cd8-53cb-49dd-82e3-9d2139c576ed",
   "metadata": {},
   "outputs": [
    {
     "data": {
      "text/plain": [
       "5"
      ]
     },
     "execution_count": 4,
     "metadata": {},
     "output_type": "execute_result"
    }
   ],
   "source": [
    "nums = [1,3,2,2,5,2,3,7]\n",
    "def len_LHA(nums:list)->int:\n",
    "    \"\"\"Takes an integer array and \n",
    "    returns the length of the\n",
    "    longest harmonious array\n",
    "\n",
    "    Args:\n",
    "        nums (list): array of integers\n",
    "\n",
    "    Returns:\n",
    "        int: length of the longest harmonious array\n",
    "    \"\"\"\n",
    "    freq = dict()\n",
    "    for i in nums:\n",
    "        freq[i] = freq.get(i,0) + 1\n",
    "    max_length = 0\n",
    "    for i in freq:\n",
    "        if  i+1 in freq:\n",
    "            max_length = max(max_length , freq[i] + freq[i+1])\n",
    "    return (max_length)\n",
    "len_LHA(nums)"
   ]
  },
  {
   "cell_type": "code",
   "execution_count": null,
   "id": "592fb22d-ff88-4cb9-b213-f1abd6f3430b",
   "metadata": {},
   "outputs": [],
   "source": []
  },
  {
   "cell_type": "markdown",
   "id": "39668466-824b-4cc1-baa6-0cdaf09d8ef9",
   "metadata": {},
   "source": [
    "Q4. You have a long flowerbed in which some of the plots are planted, and some are not. However, flowers cannot be planted in adjacent plots.\n",
    "    Given an integer array flowerbed containing 0's and 1's, where 0 means empty and 1 means not empty, and an integer n, return true if n new flowers \n",
    "    can be planted in the flowerbed without violating the no-adjacent-flowers rule and false otherwise.\n",
    "\n",
    "Example 1: Input: flowerbed = [1,0,0,0,1], n = 1 Output: true"
   ]
  },
  {
   "cell_type": "code",
   "execution_count": 5,
   "id": "1860ab86-39ed-4f37-9441-15d5e656401f",
   "metadata": {},
   "outputs": [
    {
     "data": {
      "text/plain": [
       "True"
      ]
     },
     "execution_count": 5,
     "metadata": {},
     "output_type": "execute_result"
    }
   ],
   "source": [
    "flowerbed = [1,0,0,0,1]\n",
    "n = 1\n",
    "def canPlaceFlowers(flowerbed:list, n:int)->bool:\n",
    "    \"\"\"Given an integer array flowerbed containing 0's and 1's, \n",
    "    where 0 means empty and 1 means not empty, and an integer n, \n",
    "    return true if n new flowers can be planted in the flowerbed \n",
    "    without violating the no-adjacent-flowers rule and false otherwise.\n",
    "\n",
    "    Args:\n",
    "        flowerbed (list): array of flowerbed containing 0 & 1\n",
    "        n (int): number of flowers to be planted\n",
    "\n",
    "    Returns:\n",
    "        bool: True if n new flowers can be planted\n",
    "    \"\"\"\n",
    "    count = 0\n",
    "    for i in range(len(flowerbed)):\n",
    "        if flowerbed[i] == 0: # if no flowers at current location\n",
    "            canbeplanted_left = (i==0) or (flowerbed[i - 1] == 0) # check if flower can be planted on left side or if it is the starting position\n",
    "            canbeplanted_right = (i == len(flowerbed)-1) or (flowerbed[i+1] == 0) # check if flower can be planted on right side or if ending position\n",
    "            \n",
    "            if canbeplanted_left and canbeplanted_right:\n",
    "                flowerbed[i] = 1\n",
    "                count += 1\n",
    "    return count >=n\n",
    "\n",
    "canPlaceFlowers(flowerbed,n)"
   ]
  },
  {
   "cell_type": "code",
   "execution_count": null,
   "id": "c161e5cc-17de-4f88-a45e-b9d9269437ec",
   "metadata": {},
   "outputs": [],
   "source": []
  },
  {
   "cell_type": "markdown",
   "id": "1c2d8358-4834-4d64-9cff-468d5ecac65f",
   "metadata": {},
   "source": [
    "Q5. Given an integer array nums, find three numbers whose product is maximum and return the maximum product.\n",
    "\n",
    "Example 1: Input: nums = [1,2,3] Output: 6"
   ]
  },
  {
   "cell_type": "code",
   "execution_count": 6,
   "id": "34f623f3-a402-4b15-b7ca-acecd88243e3",
   "metadata": {},
   "outputs": [
    {
     "data": {
      "text/plain": [
       "6"
      ]
     },
     "execution_count": 6,
     "metadata": {},
     "output_type": "execute_result"
    }
   ],
   "source": [
    "nums = [1,2,3]\n",
    "def threeProductMax(nums) ->int:\n",
    "    \"\"\"takes an array of 3 numbers and \n",
    "    identifies 3 numbers whoes product is \n",
    "    maximum and returns the maximum product\n",
    "\n",
    "    Args:\n",
    "        nums (list): array of numbers\n",
    "        \n",
    "    Returns: integer of the maximum product\n",
    "    \"\"\"\n",
    "    # logic is we need to either find the 3 biggest numbers or the biggest number and \n",
    "    # the 2 smallest numbers as the 2 smallest numbers can have negative sign and\n",
    "    # multiplying them with the biggest number would yield the biggest product\n",
    "    l = sorted(nums)\n",
    "    return max((l[-1]*l[-2]*l[-3]),(l[0]*l[1]*l[-1]))\n",
    "threeProductMax(nums)"
   ]
  },
  {
   "cell_type": "code",
   "execution_count": null,
   "id": "4e17326f-e2a1-4a4f-8ab4-17511648ed70",
   "metadata": {},
   "outputs": [],
   "source": []
  },
  {
   "cell_type": "markdown",
   "id": "7acced10-91e0-40e1-99c9-c12f5a9d0fd6",
   "metadata": {},
   "source": [
    "Q6. Given an array of integers nums which is sorted in ascending order, and an integer target, write a function to search target in nums. \n",
    "    If target exists, then return its index. Otherwise, return -1.\n",
    "\n",
    "    You must write an algorithm with O(log n) runtime complexity.\n",
    "\n",
    "Input: nums = [-1,0,3,5,9,12], target = 9 Output: 4\n",
    "\n",
    "Explanation: 9 exists in nums and its index is 4"
   ]
  },
  {
   "cell_type": "code",
   "execution_count": 7,
   "id": "a66ab835-8d54-4f8e-99bc-cd822741336b",
   "metadata": {},
   "outputs": [
    {
     "data": {
      "text/plain": [
       "4"
      ]
     },
     "execution_count": 7,
     "metadata": {},
     "output_type": "execute_result"
    }
   ],
   "source": [
    "nums = [-1,0,3,5,9,12]\n",
    "target = 9\n",
    "\n",
    "def index_check(nums, target)->int:\n",
    "    \"\"\"Takes an array of numbers and a target\n",
    "    checks if the target exist in the array and returns\n",
    "    the index of the target else returns -1\n",
    "\n",
    "    Args:\n",
    "        nums (list): array of numbers\n",
    "        target (int): target number\n",
    "\n",
    "    Returns:\n",
    "        int: index of the target or -1 if the target does not exist\n",
    "    \"\"\"\n",
    "    result = None\n",
    "    for index , val in enumerate(nums):\n",
    "        if val == target:\n",
    "            result = index\n",
    "    if result:\n",
    "        return result\n",
    "    else:\n",
    "        return (-1)\n",
    "        \n",
    "index_check(nums , target) "
   ]
  },
  {
   "cell_type": "code",
   "execution_count": null,
   "id": "0319ce6f-5eec-4c5e-9777-6b8fc6db8d44",
   "metadata": {},
   "outputs": [],
   "source": []
  },
  {
   "cell_type": "markdown",
   "id": "3ab18925-3ed7-4b8e-a64d-a015d446ef89",
   "metadata": {},
   "source": [
    "Q7. An array is monotonic if it is either monotone increasing or monotone decreasing.\n",
    "\n",
    "An array nums is monotone increasing if for all i <= j, nums[i] <= nums[j]. An array nums is monotone decreasing if for all i <= j, nums[i] >= nums[j].\n",
    "\n",
    "Given an integer array nums, return true if the given array is monotonic, or false otherwise.\n",
    "\n",
    "Example 1: Input: nums = [1,2,2,3] Output: true"
   ]
  },
  {
   "cell_type": "code",
   "execution_count": 8,
   "id": "93755e98-49e5-4a9f-897c-a15edfbd0399",
   "metadata": {},
   "outputs": [
    {
     "data": {
      "text/plain": [
       "True"
      ]
     },
     "execution_count": 8,
     "metadata": {},
     "output_type": "execute_result"
    }
   ],
   "source": [
    "nums = [1,2,2,3]\n",
    "def isMonotonic(nums) -> bool:\n",
    "    \"\"\"takes an array of numbers as a parameter and returns\n",
    "    whether the numbers are monotonic\n",
    "\n",
    "    Args:\n",
    "        nums (list): array of numbers\n",
    "\n",
    "    Returns:\n",
    "        bool: True if the numbers are monotonic else False\n",
    "    \"\"\"\n",
    "    pattern = nums[len(nums) - 1] > nums[0]\n",
    "    return all((nums[i] > nums[i-1]) == pattern or (nums[i] == nums[i-1]) for i in range(1, len(nums)))\n",
    "    \n",
    "isMonotonic(nums)"
   ]
  },
  {
   "cell_type": "code",
   "execution_count": null,
   "id": "8ee5a51f-41ea-43f3-8d66-84cc8c5e2895",
   "metadata": {},
   "outputs": [],
   "source": []
  },
  {
   "cell_type": "markdown",
   "id": "a54a988b-52b9-4cc9-9ab6-425b27ef532b",
   "metadata": {},
   "source": [
    "Q8. You are given an integer array nums and an integer k.\n",
    "\n",
    "In one operation, you can choose any index i where 0 <= i < nums.length and change nums[i] to nums[i] + x where x is an integer from the \n",
    "range [-k, k]. You can apply this operation at most once for each index i.\n",
    "\n",
    "The score of nums is the difference between the maximum and minimum elements in nums.\n",
    "\n",
    "Return the minimum score of nums after applying the mentioned operation at most once for each index in it.\n",
    "\n",
    "Example 1: Input: nums = [1], k = 0 Output: 0\n",
    "\n",
    "Explanation: The score is max(nums) - min(nums) = 1 - 1 = 0."
   ]
  },
  {
   "cell_type": "code",
   "execution_count": 9,
   "id": "92cd2d0e-cd2b-4079-b9a7-24b5af307064",
   "metadata": {},
   "outputs": [
    {
     "data": {
      "text/plain": [
       "0"
      ]
     },
     "execution_count": 9,
     "metadata": {},
     "output_type": "execute_result"
    }
   ],
   "source": [
    "## Question is very poorly worded and i understand it like this ...we are given an array of nums and an integer k\n",
    "# at any given time we can we can change the nums of nums[i] by adding x which belongs to [-k,k] but we can do this addition \n",
    "# only once at any given index for that particular index ...\n",
    "# The result is the minimum of [max(nums) - min(nums)] ...\n",
    "# Approach is like this: \n",
    "    # 1. we find out the max and min values from the given array nums\n",
    "    # 2. The result is (max(nums) - k) -  (min(nums + k))\n",
    "nums = [1]\n",
    "k = 0\n",
    "def array_min(nums, k) -> int:\n",
    "    \"\"\"Takes an array of numbers \n",
    "    performs nums[i] + x at any give index (i) only once\n",
    "    x  belongs to [-k,k] and returns the smallest difference between\n",
    "    max(nums) and min(nums)\n",
    "\n",
    "    Args:\n",
    "        nums (list): array of numbers\n",
    "        k (int): integer\n",
    "\n",
    "    Returns:\n",
    "        int: smallest difference between max(nums) and min(nums)\n",
    "        \n",
    "    \"\"\"\n",
    "    \n",
    "    x = max(nums)\n",
    "    y = min(nums)\n",
    "    \n",
    "    return max(0 , ((x-k) - (y+k)))\n",
    "\n",
    "array_min(nums, k)"
   ]
  },
  {
   "cell_type": "code",
   "execution_count": null,
   "id": "45e68a1a-33bd-482a-9156-11c97a990330",
   "metadata": {},
   "outputs": [],
   "source": []
  }
 ],
 "metadata": {
  "kernelspec": {
   "display_name": "Python 3 (ipykernel)",
   "language": "python",
   "name": "python3"
  },
  "language_info": {
   "codemirror_mode": {
    "name": "ipython",
    "version": 3
   },
   "file_extension": ".py",
   "mimetype": "text/x-python",
   "name": "python",
   "nbconvert_exporter": "python",
   "pygments_lexer": "ipython3",
   "version": "3.10.8"
  }
 },
 "nbformat": 4,
 "nbformat_minor": 5
}
