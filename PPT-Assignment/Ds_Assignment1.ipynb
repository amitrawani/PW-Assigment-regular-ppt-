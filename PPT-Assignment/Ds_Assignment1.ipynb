{
 "cells": [
  {
   "cell_type": "markdown",
   "id": "8727c668-b81d-4086-999d-e3c873681775",
   "metadata": {},
   "source": [
    "1. Write a Python program to reverse a string without using any built-in string reversal functions."
   ]
  },
  {
   "cell_type": "code",
   "execution_count": 1,
   "id": "2673fa65-14be-41f8-acb6-89bd50ed0433",
   "metadata": {},
   "outputs": [
    {
     "name": "stdout",
     "output_type": "stream",
     "text": [
      "sllikswP\n"
     ]
    }
   ],
   "source": [
    "s = \"Pwskills\"\n",
    "#solution_1\n",
    "temp = list(s)\n",
    "ans = []\n",
    "for i in range(len(temp) -1, -1, -1):\n",
    "    ans.append(temp[i])\n",
    "print(\"\".join(ans))\n",
    "\n"
   ]
  },
  {
   "cell_type": "code",
   "execution_count": 2,
   "id": "35482347-2a0a-4f42-9527-ba29e1dc0b7e",
   "metadata": {},
   "outputs": [
    {
     "name": "stdout",
     "output_type": "stream",
     "text": [
      "sllikswP\n"
     ]
    }
   ],
   "source": [
    "#solution_2\n",
    "print(s[::-1])"
   ]
  },
  {
   "cell_type": "markdown",
   "id": "b40a2a04-0935-4a51-bd56-fa63bffeacca",
   "metadata": {},
   "source": [
    "2. Implement a function to check if a given string is a palindrome."
   ]
  },
  {
   "cell_type": "code",
   "execution_count": 6,
   "id": "466649d4-d3c9-450a-b50e-1e0990814e39",
   "metadata": {},
   "outputs": [
    {
     "name": "stdout",
     "output_type": "stream",
     "text": [
      "The given string 'pwskills' is not a palindrome\n"
     ]
    }
   ],
   "source": [
    "s = 'pwskills'\n",
    "if s == s[::-1]:\n",
    "    print(f\"The given string '{s}' is a palindrome\")\n",
    "else:\n",
    "    print(f\"The given string '{s}' is not a palindrome\")\n",
    "\n"
   ]
  },
  {
   "cell_type": "markdown",
   "id": "c29c9051-a19b-4766-9554-5f489c3710ea",
   "metadata": {},
   "source": [
    "3. Write a program to find the largest element in a given list."
   ]
  },
  {
   "cell_type": "code",
   "execution_count": 7,
   "id": "95cebaa7-b267-4f1c-90e4-cd649cfc24f0",
   "metadata": {},
   "outputs": [
    {
     "name": "stdout",
     "output_type": "stream",
     "text": [
      "52\n"
     ]
    }
   ],
   "source": [
    "l = [32,4,5,7,52,21,3]\n",
    "maximum = l[0]\n",
    "for i in range(1,len(l)-1):\n",
    "    if l[i] > maximum:\n",
    "        maximum = l[i]\n",
    "print(maximum)\n",
    "\n"
   ]
  },
  {
   "cell_type": "markdown",
   "id": "b04869fd-7922-4a23-8e6c-da5066ca67cf",
   "metadata": {},
   "source": [
    "4. Implement a function to count the occurrence of each element in a list."
   ]
  },
  {
   "cell_type": "code",
   "execution_count": 8,
   "id": "d4c3d4b6-c1aa-4a10-b2f4-1ee1d35025c2",
   "metadata": {},
   "outputs": [
    {
     "name": "stdout",
     "output_type": "stream",
     "text": [
      "{2: 3, 3: 3, 4: 2, 5: 2, 1: 1, 8: 1, 9: 1}\n"
     ]
    }
   ],
   "source": [
    "l = [2,2,3,3,4,5,5,4,3,1,2,8,9]\n",
    "d = dict()\n",
    "for i in l:\n",
    "    d[i] = d.get(i,0) + 1\n",
    "print(d)\n"
   ]
  },
  {
   "cell_type": "markdown",
   "id": "20b66f86-c027-41b6-b5ed-8aac08f72b9b",
   "metadata": {},
   "source": [
    "5. Write a Python program to find the second largest number in a list."
   ]
  },
  {
   "cell_type": "code",
   "execution_count": 9,
   "id": "53cb0a3d-5634-4b65-86c0-f8f61849de13",
   "metadata": {},
   "outputs": [
    {
     "name": "stdout",
     "output_type": "stream",
     "text": [
      "22\n"
     ]
    }
   ],
   "source": [
    "l = [22,3,4,5,5,4,3,1,2,88,9]\n",
    "l.sort()\n",
    "print(l[-2])"
   ]
  },
  {
   "cell_type": "markdown",
   "id": "e36c62cf-b242-4e96-9331-24f7e8100674",
   "metadata": {},
   "source": [
    "6. Implement a function to remove duplicate elements from a list."
   ]
  },
  {
   "cell_type": "code",
   "execution_count": 10,
   "id": "f5f800ef-0774-4517-89f0-15ea3f8984a3",
   "metadata": {},
   "outputs": [
    {
     "name": "stdout",
     "output_type": "stream",
     "text": [
      "[1, 2, 3, 4, 5, 8]\n"
     ]
    }
   ],
   "source": [
    "l = [3,4,5,5,4,3,1,2,8,]\n",
    "print(list(set(l)))"
   ]
  },
  {
   "cell_type": "markdown",
   "id": "e2c566bc-f810-4f03-b74b-bcc69bfffbd1",
   "metadata": {},
   "source": [
    "7. Write a program to calculate the factorial of a given number."
   ]
  },
  {
   "cell_type": "code",
   "execution_count": 13,
   "id": "bee905e0-9a39-4a93-b16d-7f64e040a0a2",
   "metadata": {},
   "outputs": [
    {
     "data": {
      "text/plain": [
       "5040"
      ]
     },
     "execution_count": 13,
     "metadata": {},
     "output_type": "execute_result"
    }
   ],
   "source": [
    "n = 7\n",
    "def factorial(n): #recursive function\n",
    "    if n == 1: # base case\n",
    "        return 1\n",
    "    else:\n",
    "        return n * factorial(n-1) \n",
    "factorial(n)"
   ]
  },
  {
   "cell_type": "markdown",
   "id": "6f0602f9-6f3f-47b1-8911-399c17cc48e2",
   "metadata": {},
   "source": [
    "8. Implement a function to check if a given number is prime."
   ]
  },
  {
   "cell_type": "code",
   "execution_count": 16,
   "id": "70708ab7-9202-49dc-b0c1-e10e1eaa6508",
   "metadata": {},
   "outputs": [
    {
     "data": {
      "text/plain": [
       "True"
      ]
     },
     "execution_count": 16,
     "metadata": {},
     "output_type": "execute_result"
    }
   ],
   "source": [
    "\n",
    "\n",
    "n = 17\n",
    "def prime_num(n:int)->bool:\n",
    "    \"\"\"checks if a number is prime\n",
    "\n",
    "    Args:\n",
    "        n (int): number to check\n",
    "\n",
    "    Returns:\n",
    "        bool: True if the number is prime\n",
    "    \"\"\"\n",
    "    \n",
    "    if n<2:\n",
    "        return False\n",
    "    flag = True\n",
    "    for i in range(2,n//2+1):\n",
    "        if n%i == 0:\n",
    "            return False\n",
    "    return True\n",
    "prime_num(n)\n",
    "\n"
   ]
  },
  {
   "cell_type": "markdown",
   "id": "298e2578-d3c4-45dd-a360-f79cd7fc65f9",
   "metadata": {},
   "source": [
    "9. Write a Python program to sort a list of integers in ascending order."
   ]
  },
  {
   "cell_type": "code",
   "execution_count": 17,
   "id": "9ee4278a-7b9d-4cba-8bd2-8a1ae2b72a28",
   "metadata": {},
   "outputs": [
    {
     "data": {
      "text/plain": [
       "[1, 2, 2, 3, 3, 4, 4, 5, 5, 8, 9]"
      ]
     },
     "execution_count": 17,
     "metadata": {},
     "output_type": "execute_result"
    }
   ],
   "source": [
    "\n",
    "\n",
    "l = [2,3,4,5,5,4,3,1,2,8,9]\n",
    "def listSort(n:list[int])->list[int]:\n",
    "    \"\"\"sorts a given list of numbers in ascending order and\n",
    "    returns a list\n",
    "\n",
    "    Args:\n",
    "        n (list[int]): list of numbers to sort\n",
    "\n",
    "    Returns:\n",
    "        list[int]: sorted list\n",
    "    \"\"\"\n",
    "    return sorted(n)\n",
    "\n",
    "listSort(l)\n",
    "\n"
   ]
  },
  {
   "cell_type": "markdown",
   "id": "003739fe-8d5d-4e7d-a40b-0425ab8503f1",
   "metadata": {},
   "source": [
    "10. Implement a function to find the sum of all numbers in a list."
   ]
  },
  {
   "cell_type": "code",
   "execution_count": 18,
   "id": "91285d51-83ec-4d9f-baee-051b2cb07b14",
   "metadata": {},
   "outputs": [
    {
     "data": {
      "text/plain": [
       "66"
      ]
     },
     "execution_count": 18,
     "metadata": {},
     "output_type": "execute_result"
    }
   ],
   "source": [
    "l = [2,13,14,5,5,4,3,1,2,8,9]\n",
    "def listSum(l:list[int]) -> int:\n",
    "    \"\"\"return the sum of the elements of the list\n",
    "\n",
    "    Args:\n",
    "        l (list[int]): list of integers\n",
    "\n",
    "    Returns:\n",
    "        int: sum\n",
    "    \"\"\"\n",
    "    sum = 0\n",
    "    for i in l:\n",
    "        sum += i\n",
    "    return sum\n",
    "listSum(l)\n",
    "\n"
   ]
  },
  {
   "cell_type": "markdown",
   "id": "1efebdec-efac-4837-bd52-183b6a195c6c",
   "metadata": {},
   "source": [
    "11. Write a program to find the common elements between two lists."
   ]
  },
  {
   "cell_type": "code",
   "execution_count": 19,
   "id": "77bacb41-9fc8-4921-8d48-e2c4e5526bc7",
   "metadata": {},
   "outputs": [
    {
     "data": {
      "text/plain": [
       "[2, 3, 4, 5]"
      ]
     },
     "execution_count": 19,
     "metadata": {},
     "output_type": "execute_result"
    }
   ],
   "source": [
    "l1 = [2,3,4,5,8,9]\n",
    "l2 = [5,4,3,1,2]\n",
    "def commonElements(l1:list[int],l2:list[int])->list[int]:\n",
    "    \"\"\"takes 2 lists of elements and returns a list of common elements\n",
    "\n",
    "    Args:\n",
    "        l1 (list[int]): array of integers\n",
    "        l2 (list[int]): array of integers\n",
    "\n",
    "    Returns:\n",
    "        list[int]: list of common elements\n",
    "    \"\"\"\n",
    "    return list(set(l1).intersection(set(l2)))\n",
    "commonElements(l1,l2)"
   ]
  },
  {
   "cell_type": "markdown",
   "id": "358834bd-f3de-4696-bfe7-46831403090a",
   "metadata": {},
   "source": [
    "12. Implement a function to check if a given string is an anagram of another string.\n"
   ]
  },
  {
   "cell_type": "code",
   "execution_count": 20,
   "id": "441a7ee5-cf39-4eff-8f4b-f7b53e6784c0",
   "metadata": {},
   "outputs": [
    {
     "data": {
      "text/plain": [
       "True"
      ]
     },
     "execution_count": 20,
     "metadata": {},
     "output_type": "execute_result"
    }
   ],
   "source": [
    "a = \"listen\"\n",
    "b = \"silent\"\n",
    "def isAnagram(a:str,b:str)->bool:\n",
    "    \"\"\"checks if a and b are anagrams\n",
    "\n",
    "    Args:\n",
    "        a (str): string to check\n",
    "        b (str): string to check\n",
    "\n",
    "    Returns:\n",
    "        bool: True if a and b are anagrams else False\n",
    "    \"\"\"\n",
    "    if sorted(a) == sorted(b):\n",
    "        return True\n",
    "    else:\n",
    "        return False\n",
    "isAnagram(a,b)\n",
    "\n"
   ]
  },
  {
   "cell_type": "markdown",
   "id": "8ec7922a-55ff-48dc-bd69-ea502ca58884",
   "metadata": {},
   "source": [
    "13. Write a Python program to generate all permutations of a given string.\n"
   ]
  },
  {
   "cell_type": "code",
   "execution_count": 21,
   "id": "32dfd266-7d4d-44a6-9368-a323543ac99c",
   "metadata": {},
   "outputs": [
    {
     "name": "stdout",
     "output_type": "stream",
     "text": [
      "ABC\n",
      "ACB\n",
      "BAC\n",
      "BCA\n",
      "CAB\n",
      "CBA\n"
     ]
    }
   ],
   "source": [
    "# Recursive function to generate all permutations of a string\n",
    "def permutations(remaining, candidate=''):\n",
    " \n",
    "    if len(remaining) == 0:\n",
    "        print(candidate)\n",
    " \n",
    "    for i in range(len(remaining)):\n",
    " \n",
    "        newCandidate = candidate + remaining[i]\n",
    "        newRemaining = remaining[0:i] + remaining[i+1:]\n",
    " \n",
    "        permutations(newRemaining, newCandidate)\n",
    " \n",
    " \n",
    "if __name__ == '__main__':\n",
    " \n",
    "    s = 'ABC'\n",
    "    permutations(s)"
   ]
  },
  {
   "cell_type": "markdown",
   "id": "9c332e05-d085-4a4f-bc89-23770e22e69f",
   "metadata": {},
   "source": [
    "14. Implement a function to calculate the Fibonacci sequence up to a given number of terms."
   ]
  },
  {
   "cell_type": "code",
   "execution_count": 24,
   "id": "40865934-ab58-468b-96fd-c7c120694e7d",
   "metadata": {},
   "outputs": [
    {
     "name": "stdout",
     "output_type": "stream",
     "text": [
      "0\n",
      "1\n",
      "1\n",
      "2\n",
      "3\n",
      "5\n",
      "8\n",
      "13\n",
      "21\n",
      "34\n",
      "55\n",
      "89\n",
      "144\n"
     ]
    }
   ],
   "source": [
    "\n",
    "\n",
    "n = 12\n",
    "def fibonacci(n:int)->None:\n",
    "    \"\"\"Prints the fibonacci sequence of a length equal to\n",
    "    integer n\n",
    "\n",
    "    Args:\n",
    "        n (int): integer\n",
    "    Returns (None) : Prints the sequence\n",
    "    \"\"\"\n",
    "    i=0\n",
    "    a=0\n",
    "    b=1\n",
    "    sum = 0\n",
    "    while i<=n:\n",
    "        print(a)\n",
    "        sum = a+b\n",
    "        a,b = b,sum\n",
    "        i+=1\n",
    "fibonacci(n)\n",
    "    \n",
    "\n"
   ]
  },
  {
   "cell_type": "code",
   "execution_count": 25,
   "id": "4b15ab1c-ddc7-4c7a-883f-51a88dc74f9b",
   "metadata": {},
   "outputs": [
    {
     "name": "stdout",
     "output_type": "stream",
     "text": [
      "144\n"
     ]
    }
   ],
   "source": [
    "\n",
    "\n",
    "#fibonacci Recursion\n",
    "def fibonacci(n:int)->int:\n",
    "    \"\"\"Prints the fibonacci sequence of a length equal to\n",
    "    integer n\n",
    "\n",
    "    Args:\n",
    "        n (int): integer\n",
    "    Returns (int) : Prints the sequence\n",
    "    \"\"\"\n",
    "    \n",
    "    if n<0:\n",
    "        print(\"Incorrect input\") # check for a valid number\n",
    "    elif n==0:\n",
    "        return 0\n",
    "    elif n==1 or n==2:\n",
    "        return 1\n",
    "    else:\n",
    "        return fibonacci(n-1) + fibonacci(n-2)\n",
    "print(fibonacci(12))\n",
    "\n"
   ]
  },
  {
   "cell_type": "markdown",
   "id": "b11ba44b-b0ae-4444-ae54-b851c5ee7cbd",
   "metadata": {},
   "source": [
    "15. Write a program to find the median of a list of numbers."
   ]
  },
  {
   "cell_type": "code",
   "execution_count": 27,
   "id": "72bfd05e-4b97-444f-a0a8-25b24102af57",
   "metadata": {},
   "outputs": [
    {
     "data": {
      "text/plain": [
       "4.5"
      ]
     },
     "execution_count": 27,
     "metadata": {},
     "output_type": "execute_result"
    }
   ],
   "source": [
    "l = [1,2,3,4,5,6,8,9]\n",
    "def medianFinder(l:list[int])->float:\n",
    "    \"\"\"calculate median for an array of integers\n",
    "\n",
    "    Args:\n",
    "        l (list[int]): array of integers\n",
    "\n",
    "    Returns:\n",
    "        float: median for the array of integers\n",
    "    \"\"\"\n",
    "    if len(l)%2!=0:\n",
    "        return l[len(l)//2]\n",
    "    else:\n",
    "        mid = int(len(l)/2)\n",
    "        median = (l[mid-1] + l[mid])/ 2\n",
    "        return median\n",
    "medianFinder(l)\n",
    "\n"
   ]
  },
  {
   "cell_type": "markdown",
   "id": "f792d2df-fb21-4ed8-8237-70be17c7ec37",
   "metadata": {},
   "source": [
    "16. Implement a function to check if a given list is sorted in non-decreasing order."
   ]
  },
  {
   "cell_type": "code",
   "execution_count": 28,
   "id": "c0edfaa5-82e2-458c-a97e-59ccb7b19c75",
   "metadata": {},
   "outputs": [
    {
     "data": {
      "text/plain": [
       "False"
      ]
     },
     "execution_count": 28,
     "metadata": {},
     "output_type": "execute_result"
    }
   ],
   "source": [
    "l = [1,2,4,3,4,5,6]\n",
    "def sortChecker(l:list)->bool:\n",
    "    \"\"\"Checks if a list is sorted in non-decreasing order\n",
    "\n",
    "    Args:\n",
    "        l (list): list of elements\n",
    "\n",
    "    Returns:\n",
    "        bool: True if sorted in non-decreasing order else False\n",
    "    \"\"\"\n",
    "    if l == sorted(l):\n",
    "        return True\n",
    "    return False\n",
    "sortChecker(l)\n",
    "\n"
   ]
  },
  {
   "cell_type": "markdown",
   "id": "7e41df06-700a-47f5-927d-f891844af4e0",
   "metadata": {},
   "source": [
    "17. Write a Python program to find the intersection of two lists."
   ]
  },
  {
   "cell_type": "code",
   "execution_count": 29,
   "id": "d187cf93-60a0-4293-aa0c-2175b53792de",
   "metadata": {},
   "outputs": [
    {
     "data": {
      "text/plain": [
       "[2, 3, 6]"
      ]
     },
     "execution_count": 29,
     "metadata": {},
     "output_type": "execute_result"
    }
   ],
   "source": [
    "l1 = [1,2,3,4,5,6]\n",
    "l2 = [9,8,2,3,6,10]\n",
    "def commonElements(l1:list,l2:list)->list:\n",
    "    \"\"\"Finds the common elements of 2 given list of elements\n",
    "\n",
    "    Args:\n",
    "        l1 (list): list of elements\n",
    "        l2 (list): list of elements\n",
    "\n",
    "    Returns:\n",
    "        list: list of common elements\n",
    "    \"\"\"\n",
    "    return list(set(l1).intersection(l2))\n",
    "commonElements(l1,l2)\n",
    "\n"
   ]
  },
  {
   "cell_type": "markdown",
   "id": "63128b5d-a517-4960-805a-4d32116ddbaa",
   "metadata": {},
   "source": [
    "18. Implement a function to find the maximum subarray sum in a given list."
   ]
  },
  {
   "cell_type": "code",
   "execution_count": 30,
   "id": "f5c38fc2-ee5e-49a8-bb87-6d82338f9bd5",
   "metadata": {},
   "outputs": [
    {
     "data": {
      "text/plain": [
       "6"
      ]
     },
     "execution_count": 30,
     "metadata": {},
     "output_type": "execute_result"
    }
   ],
   "source": [
    "nums = [-2,1,-3,4,-1,2,1,-5,4]\n",
    "def maxSubarraySum(nums:list[int])->int:\n",
    "    \"\"\"finds and returns the maximum subarray sum\n",
    "\n",
    "    Args:\n",
    "        nums (list[int]): array of numbers\n",
    "\n",
    "    Returns:\n",
    "        int: maximum subarray sum\n",
    "    \"\"\"\n",
    "    sum = 0\n",
    "    maxtillend = 0\n",
    "    if len(nums) == 1:\n",
    "        return nums[0]\n",
    "    else:\n",
    "        for i in nums:\n",
    "            maxtillend += i\n",
    "            if sum < maxtillend:\n",
    "                sum = maxtillend\n",
    "            if maxtillend < 0:\n",
    "                maxtillend = 0\n",
    "        return sum\n",
    "maxSubarraySum(nums)\n",
    "\n"
   ]
  },
  {
   "cell_type": "markdown",
   "id": "3d1192a8-eb86-41eb-ba53-91c94f2c6b7d",
   "metadata": {},
   "source": [
    "19. Write a program to remove all vowels from a given string.\n"
   ]
  },
  {
   "cell_type": "code",
   "execution_count": 31,
   "id": "0a1ca903-fd2c-44d8-85f4-47e7622fa883",
   "metadata": {},
   "outputs": [
    {
     "data": {
      "text/plain": [
       "'vwls'"
      ]
     },
     "execution_count": 31,
     "metadata": {},
     "output_type": "execute_result"
    }
   ],
   "source": [
    "s = \"vowels\"\n",
    "def removeVowels(s:str)->str:\n",
    "    \"\"\"removes all vowels from a string and returns it\n",
    "\n",
    "    Args:\n",
    "        s (str): string\n",
    "\n",
    "    Returns:\n",
    "        str: string with vowels removed\n",
    "    \"\"\"\n",
    "    l = []\n",
    "    for i in s:\n",
    "        if i not in \"aeiou\":\n",
    "            l.append(i)\n",
    "    return (\"\".join(l))\n",
    "removeVowels(s)"
   ]
  },
  {
   "cell_type": "markdown",
   "id": "8e155212-1806-48b7-89e5-bed01dbf4070",
   "metadata": {},
   "source": [
    "20. Implement a function to reverse the order of words in a given sentence.\n"
   ]
  },
  {
   "cell_type": "code",
   "execution_count": 32,
   "id": "dc40e059-ad72-4ed1-8175-f928df9a734f",
   "metadata": {},
   "outputs": [
    {
     "data": {
      "text/plain": [
       "'rally Khalistani of ahead Canada in officials its to threats over concerned India'"
      ]
     },
     "execution_count": 32,
     "metadata": {},
     "output_type": "execute_result"
    }
   ],
   "source": [
    "s=\"India concerned over threats to its officials in Canada ahead of Khalistani rally\"\n",
    "def wordReversal(s:str)->str:\n",
    "    \"\"\"takes a sentence and returns a string with each word reversed\n",
    "\n",
    "    Args:\n",
    "        s (str): string representation of the sentence\n",
    "\n",
    "    Returns:\n",
    "        str: string representation of the sentence with each word reversed\n",
    "    \"\"\"\n",
    "    return (\" \".join(s.split()[::-1]))\n",
    "wordReversal(s)"
   ]
  },
  {
   "cell_type": "markdown",
   "id": "2ab48f56-7851-4d3d-9633-9c7b8f668b87",
   "metadata": {},
   "source": [
    "\n",
    "\n",
    "21. Write a Python program to check if two strings are anagrams of each other.\n"
   ]
  },
  {
   "cell_type": "code",
   "execution_count": 33,
   "id": "0d85852d-2733-4dfe-a83a-41d4f2936496",
   "metadata": {},
   "outputs": [
    {
     "data": {
      "text/plain": [
       "True"
      ]
     },
     "execution_count": 33,
     "metadata": {},
     "output_type": "execute_result"
    }
   ],
   "source": [
    "a = \"listen\"\n",
    "b = \"silent\"\n",
    "def isAnagram(a:str,b:str)->bool:\n",
    "    \"\"\"checks if a and b are anagrams\n",
    "\n",
    "    Args:\n",
    "        a (str): string to check\n",
    "        b (str): string to check\n",
    "\n",
    "    Returns:\n",
    "        bool: True if a and b are anagrams else False\n",
    "    \"\"\"\n",
    "    if sorted(a) == sorted(b):\n",
    "        return True\n",
    "    else:\n",
    "        return False\n",
    "isAnagram(a,b)\n",
    "\n"
   ]
  },
  {
   "cell_type": "markdown",
   "id": "182bc09d-7170-464f-931b-ab8fa28329f8",
   "metadata": {},
   "source": [
    "22. Implement a function to find the first non-repeating character in a string."
   ]
  },
  {
   "cell_type": "code",
   "execution_count": 34,
   "id": "ebdfa279-204f-4283-a452-fde706d1edf6",
   "metadata": {},
   "outputs": [
    {
     "data": {
      "text/plain": [
       "'z'"
      ]
     },
     "execution_count": 34,
     "metadata": {},
     "output_type": "execute_result"
    }
   ],
   "source": [
    "s = \"bzcbabc\"\n",
    "def nonRepeatingChar(s:str)->str:\n",
    "    \"\"\"Finds and returns the first non-repeating character from \n",
    "    the given string s\n",
    "\n",
    "    Args:\n",
    "        s (str): string\n",
    "\n",
    "    Returns:\n",
    "        str: first non-repeating character\n",
    "    \"\"\"\n",
    "    d = dict()\n",
    "    for i in s:\n",
    "        d[i] = d.get(i,0) +1\n",
    "    return list(key for key , val in d.items() if val == 1)[0]\n",
    "nonRepeatingChar(s)\n",
    "\n"
   ]
  },
  {
   "cell_type": "markdown",
   "id": "832bba33-9571-4b87-b0bc-a34904d14432",
   "metadata": {},
   "source": [
    "\n",
    "\n",
    "23. Write a program to find the prime factors of a given number.\n"
   ]
  },
  {
   "cell_type": "code",
   "execution_count": 35,
   "id": "c88d34af-e345-425e-a93f-9c811abac58a",
   "metadata": {},
   "outputs": [
    {
     "name": "stdout",
     "output_type": "stream",
     "text": [
      "3\n",
      "3\n",
      "5\n",
      "7\n"
     ]
    }
   ],
   "source": [
    "n=315\n",
    "def primeNumbers(n:int):\n",
    "    import math\n",
    "    \"\"\"Prints all the prime factors of a given number\n",
    "\n",
    "    Args:\n",
    "        n (int): Integer number\n",
    "    \"\"\"\n",
    "    while n%2==0:\n",
    "        n = n/2\n",
    "        print(2)\n",
    "        \n",
    "    for i in range(3,int(math.sqrt(n)),2):\n",
    "        while n%i==0:\n",
    "            n= n/i\n",
    "            print(i)\n",
    "    if n>2:\n",
    "        print(n)\n",
    "primeNumbers(n)\n",
    "        \n",
    "\n"
   ]
  },
  {
   "cell_type": "markdown",
   "id": "1249e3bf-3862-4cd3-bd37-32b596095b1c",
   "metadata": {},
   "source": [
    "24. Implement a function to check if a given number is a power of two."
   ]
  },
  {
   "cell_type": "code",
   "execution_count": 38,
   "id": "2fb36fdf-d215-4d7d-abb2-a735e004ed4a",
   "metadata": {},
   "outputs": [
    {
     "data": {
      "text/plain": [
       "False"
      ]
     },
     "execution_count": 38,
     "metadata": {},
     "output_type": "execute_result"
    }
   ],
   "source": [
    "n = 24\n",
    "def powerofTwo(n:int)->bool:\n",
    "    \"\"\"checks if an integer is a power of two\n",
    "\n",
    "    Args:\n",
    "        n (int): integer\n",
    "\n",
    "    Returns:\n",
    "        bool: True if the integer is a power of two else False\n",
    "    \"\"\"\n",
    "    if n==1:\n",
    "        return True\n",
    "    elif n%2 !=0 or n==0:\n",
    "        return False\n",
    "    \n",
    "    return powerofTwo(n/2)\n",
    "powerofTwo(n)\n",
    "\n"
   ]
  },
  {
   "cell_type": "markdown",
   "id": "4bfcba10-82e6-45ce-92d8-4d507297eef9",
   "metadata": {},
   "source": [
    "\n",
    "\n",
    "25. Write a Python program to merge two sorted lists into a single sorted list.\n"
   ]
  },
  {
   "cell_type": "code",
   "execution_count": 39,
   "id": "c4fc2b85-776b-4483-b523-89d5b33372c1",
   "metadata": {},
   "outputs": [
    {
     "data": {
      "text/plain": [
       "[1, 2, 2, 3, 4, 5, 7, 8, 9]"
      ]
     },
     "execution_count": 39,
     "metadata": {},
     "output_type": "execute_result"
    }
   ],
   "source": [
    "l1 = [1,2,4,5,9]\n",
    "l2 = [2,3,7,8]\n",
    "def mergeSort(l1:list[int],l2:list[int])->list[int]:\n",
    "    \"\"\"merges 2 sorted lists and returns a sorted list\n",
    "\n",
    "    Args:\n",
    "        l1 (list[int]): sorted list\n",
    "        l2 (list[int]): sorted list\n",
    "\n",
    "    Returns:\n",
    "        list[int]: merged sorted list\n",
    "    \"\"\"\n",
    "    l1.extend(l2)\n",
    "    return sorted(l1)\n",
    "mergeSort(l1,l2)\n",
    "\n"
   ]
  },
  {
   "cell_type": "markdown",
   "id": "034a5134-0d5f-49d8-8f7e-f4006bc1f178",
   "metadata": {},
   "source": [
    "\n",
    "\n",
    "26. Implement a function to find the mode of a list of numbers.\n"
   ]
  },
  {
   "cell_type": "code",
   "execution_count": 40,
   "id": "de7be861-8152-4d99-ace8-eeab0836a781",
   "metadata": {},
   "outputs": [
    {
     "data": {
      "text/plain": [
       "[5, 6]"
      ]
     },
     "execution_count": 40,
     "metadata": {},
     "output_type": "execute_result"
    }
   ],
   "source": [
    "l = [2,2,2,3,3,3,3,4,4,5,5,5,5,5,6,6,6,6,6]\n",
    "def modeFinder(l:list[int])->int:\n",
    "    \"\"\"Finds the mode of a list of integers\n",
    "\n",
    "    Args:\n",
    "        l (list[int]): list of integers\n",
    "\n",
    "    Returns:\n",
    "        int: returns the mode\n",
    "    \"\"\"\n",
    "    d = dict()\n",
    "    for i in l:\n",
    "        d[i] = d.get(i, 0) + 1\n",
    "    m = max(d.values())\n",
    "    return [key for (key, value) in d.items() if value == m]\n",
    "modeFinder(l)\n",
    "\n"
   ]
  },
  {
   "cell_type": "markdown",
   "id": "532813c0-fb09-459d-98d7-6d6c5231059b",
   "metadata": {},
   "source": [
    "27. Write a program to find the greatest common divisor (GCD) of two numbers."
   ]
  },
  {
   "cell_type": "code",
   "execution_count": 41,
   "id": "e5b5470f-4c3d-461f-9165-f920b4fa6beb",
   "metadata": {},
   "outputs": [
    {
     "data": {
      "text/plain": [
       "6"
      ]
     },
     "execution_count": 41,
     "metadata": {},
     "output_type": "execute_result"
    }
   ],
   "source": [
    "#Euclidean algorithm for GCD using Recursion\n",
    "a = 48\n",
    "b = 18\n",
    "def gcd(a:int, b:int)->int:\n",
    "    \"\"\"calculates the GCD for a and b\n",
    "     and returns the corresponding value\n",
    "\n",
    "    Args:\n",
    "        a (int): integer\n",
    "        b (int): integer\n",
    "\n",
    "    Returns:\n",
    "        int: Greatest common divisor of a and b\n",
    "    \"\"\"\n",
    "    if b==0:\n",
    "        return a\n",
    "    return gcd(b,a%b)\n",
    "\n",
    "gcd(a,b)\n",
    "\n"
   ]
  },
  {
   "cell_type": "markdown",
   "id": "3a721692-b5cb-40d9-833b-2a522b886a75",
   "metadata": {},
   "source": [
    "28. Implement a function to calculate the square root of a given number."
   ]
  },
  {
   "cell_type": "code",
   "execution_count": 42,
   "id": "d2faee81-674b-4d7e-bb60-d526bcee0e92",
   "metadata": {},
   "outputs": [
    {
     "data": {
      "text/plain": [
       "3.1622776601683795"
      ]
     },
     "execution_count": 42,
     "metadata": {},
     "output_type": "execute_result"
    }
   ],
   "source": [
    "\n",
    "\n",
    "x = 10\n",
    "def squareRoot(x:int)->float:\n",
    "    \"\"\"Calculate and return the square root of the\n",
    "    integer x\n",
    "\n",
    "    Args:\n",
    "        x (int): integer value\n",
    "\n",
    "    Returns:\n",
    "        float: square root of x\n",
    "    \"\"\"\n",
    "    return x**0.5\n",
    "squareRoot(x)\n",
    "\n"
   ]
  },
  {
   "cell_type": "markdown",
   "id": "af77ab67-617b-427c-b9bd-a91e54f2c894",
   "metadata": {},
   "source": [
    "\n",
    "\n",
    "29. Write a Python program to check if a given string is a valid palindrome ignoring non-alphanumeric characters.\n"
   ]
  },
  {
   "cell_type": "code",
   "execution_count": 43,
   "id": "122e6740-319e-4d12-88a1-1b1f08304291",
   "metadata": {},
   "outputs": [
    {
     "data": {
      "text/plain": [
       "True"
      ]
     },
     "execution_count": 43,
     "metadata": {},
     "output_type": "execute_result"
    }
   ],
   "source": [
    "\n",
    "\n",
    "s = \"mala1alam#\"\n",
    "def isPalindrome(s:str)->bool:\n",
    "    \"\"\"Checks if a string is palindrome\n",
    "    after ignoring the non-alphanumeric characters\n",
    "\n",
    "    Args:\n",
    "        s (str): string to check\n",
    "\n",
    "    Returns:\n",
    "        bool: True if the string is palindrome else False\n",
    "    \"\"\"\n",
    "\n",
    "    ans=\"\"\n",
    "    for i in s:\n",
    "        \n",
    "        if i.isalpha() or i.isnumeric():\n",
    "            ans+=i\n",
    "    if ans == ans[::-1]:\n",
    "        return True\n",
    "    return False\n",
    "\n",
    "isPalindrome(s)\n",
    "\n"
   ]
  },
  {
   "cell_type": "markdown",
   "id": "b65cc634-f55a-48ca-8ac0-23fafaef1cbb",
   "metadata": {},
   "source": [
    "\n",
    "\n",
    "30. Implement a function to find the minimum element in a rotated sorted list.\n"
   ]
  },
  {
   "cell_type": "code",
   "execution_count": 45,
   "id": "5922df12-df6b-42bd-bdbc-b5b8c086b3ab",
   "metadata": {},
   "outputs": [
    {
     "data": {
      "text/plain": [
       "1"
      ]
     },
     "execution_count": 45,
     "metadata": {},
     "output_type": "execute_result"
    }
   ],
   "source": [
    "arr = [5, 6, 1, 2, 3, 4]\n",
    "def minElement(arr:list[int])->int:\n",
    "    \"\"\"finds and returns the minimum element of a\n",
    "    rotated sorted list\n",
    "\n",
    "    Args:\n",
    "        arr (list[int]): array of integers\n",
    "\n",
    "    Returns:\n",
    "        int: minimum integer\n",
    "    \"\"\"\n",
    "    return min(arr)\n",
    "minElement(arr)"
   ]
  },
  {
   "cell_type": "markdown",
   "id": "92114e74-edb7-4c10-909b-2c7363ada3a6",
   "metadata": {},
   "source": [
    "31. Write a program to find the sum of all even numbers in a list."
   ]
  },
  {
   "cell_type": "code",
   "execution_count": 46,
   "id": "7e1fb63f-5e0d-4863-a870-c90739cc9c89",
   "metadata": {},
   "outputs": [
    {
     "data": {
      "text/plain": [
       "110"
      ]
     },
     "execution_count": 46,
     "metadata": {},
     "output_type": "execute_result"
    }
   ],
   "source": [
    "l = [1,2,3,4,5,6,7,8,9,10,11,12,13,14,15,16,17,18,19,20]\n",
    "def evenSum(l: list[int])->int:\n",
    "    \"\"\"Returns the even sum of all integers\n",
    "    in the list l\n",
    "\n",
    "    Args:\n",
    "        l (list[int]): list of integers\n",
    "\n",
    "    Returns:\n",
    "        int: sum of all even integers\n",
    "    \"\"\"\n",
    "    return sum([i for i in l if i%2==0])\n",
    "evenSum(l)"
   ]
  },
  {
   "cell_type": "markdown",
   "id": "2507428b-0535-4bcf-be9e-8aff367870e4",
   "metadata": {},
   "source": [
    "\n",
    "\n",
    "32. Implement a function to calculate the power of a number using recursion.\n"
   ]
  },
  {
   "cell_type": "code",
   "execution_count": 47,
   "id": "3a75281e-5e2d-43a3-9a2e-7ff1a9542974",
   "metadata": {},
   "outputs": [
    {
     "data": {
      "text/plain": [
       "512"
      ]
     },
     "execution_count": 47,
     "metadata": {},
     "output_type": "execute_result"
    }
   ],
   "source": [
    "x , n = 2, 9 # same as 2**9\n",
    "def powerof2(n:int,x:int)->int:\n",
    "    if n==0:\n",
    "        return 1\n",
    "    elif n==1:\n",
    "        return x\n",
    "    elif n<0:\n",
    "        n = -n\n",
    "        x = 1/x\n",
    "        return powerof2(n,x)\n",
    "    else:\n",
    "        d = powerof2(n//2,x)\n",
    "        ans = d * d\n",
    "        if n%2 != 0:\n",
    "            return x*ans\n",
    "        return ans\n",
    "\n",
    "powerof2(n,x)\n",
    "        \n",
    "\n"
   ]
  },
  {
   "cell_type": "markdown",
   "id": "798b6f55-7d21-42a4-9f1d-960a1b057809",
   "metadata": {},
   "source": [
    "33. Write a Python program to remove duplicates from a list while preserving the order."
   ]
  },
  {
   "cell_type": "code",
   "execution_count": 48,
   "id": "2262d8ef-cc1f-4846-843b-91b6d653e668",
   "metadata": {},
   "outputs": [
    {
     "data": {
      "text/plain": [
       "[1, 2, 3, 4, 6, 7, 8]"
      ]
     },
     "execution_count": 48,
     "metadata": {},
     "output_type": "execute_result"
    }
   ],
   "source": [
    "l = [1,1,1,1,2,2,3,4,4,3,3,3,6,6,6,7,8,6,4,4,6]\n",
    "def listDeduplication(l:list)->list:\n",
    "    \"\"\"Remove duplicates from the list\n",
    "    while preserving the the order of the elements\n",
    "\n",
    "    Args:\n",
    "        l (list): list of elements\n",
    "\n",
    "    Returns:\n",
    "        list: list without duplicates\n",
    "    \"\"\"\n",
    "    ans = []\n",
    "    for i in l:\n",
    "        if i not in ans:\n",
    "            ans.append(i)\n",
    "    return ans\n",
    "listDeduplication(l)\n",
    "    \n",
    "\n"
   ]
  },
  {
   "cell_type": "markdown",
   "id": "ac51956c-06be-4fc1-aec3-48dc836d3bb5",
   "metadata": {},
   "source": [
    "\n",
    "\n",
    "34. Implement a function to find the longest common prefix among a list of strings.\n"
   ]
  },
  {
   "cell_type": "code",
   "execution_count": 49,
   "id": "3306843d-31e8-4316-b407-341de9f0abb9",
   "metadata": {},
   "outputs": [
    {
     "data": {
      "text/plain": [
       "'gee'"
      ]
     },
     "execution_count": 49,
     "metadata": {},
     "output_type": "execute_result"
    }
   ],
   "source": [
    "a =['geeksforgeeks', 'geek', 'geek', 'geezer']\n",
    "def longestCommonPrefix(a:list[str])->str:\n",
    "    \"\"\"Takes a list of strings as arguments and returns\n",
    "    the longest common prefix among them\n",
    "\n",
    "    Args:\n",
    "        a (list[str]): list of strings\n",
    "\n",
    "    Returns:\n",
    "        str: longest common prefix\n",
    "    \"\"\"\n",
    "    size = len(a)\n",
    "    if size==0:\n",
    "        return \"empty\"\n",
    "    if size==1:\n",
    "        return a[0]\n",
    "    \n",
    "    a.sort()\n",
    "    \n",
    "    i = 0\n",
    "    end = min(len(a[0]), len(a[size-1]))\n",
    "    while (i<end) and (a[0][i]==a[size-1][i]):\n",
    "        i+=1\n",
    "    \n",
    "    return a[0][:i]\n",
    "\n",
    "longestCommonPrefix(a)\n"
   ]
  },
  {
   "cell_type": "markdown",
   "id": "67827c7b-8cd0-493f-84a5-173040f607e1",
   "metadata": {},
   "source": [
    "35. Write a program to check if a given number is a perfect square."
   ]
  },
  {
   "cell_type": "code",
   "execution_count": 50,
   "id": "5deb47a4-5494-4514-9d7f-3c79eb043a5a",
   "metadata": {},
   "outputs": [
    {
     "data": {
      "text/plain": [
       "True"
      ]
     },
     "execution_count": 50,
     "metadata": {},
     "output_type": "execute_result"
    }
   ],
   "source": [
    "n = 4\n",
    "def perfectSquare(n:int)->bool:\n",
    "    \"\"\"Checks if a given number n\n",
    "    is a perfect square\n",
    "\n",
    "    Args:\n",
    "        n (int): integer\n",
    "\n",
    "    Returns:\n",
    "        bool: True if n is a perfect square\n",
    "    \"\"\"\n",
    "    if n==0:\n",
    "        return False\n",
    "    elif n==1:\n",
    "        return True\n",
    "    for i in range(2,n//2+1):\n",
    "        if i*i == n:\n",
    "            return True\n",
    "    return False\n",
    "perfectSquare(n)\n",
    "        \n",
    "\n"
   ]
  },
  {
   "cell_type": "markdown",
   "id": "3c89cd85-9f98-4c11-bd24-d0f265b8b245",
   "metadata": {},
   "source": [
    "\n",
    "\n",
    "36. Implement a function to calculate the product of all elements in a list.\n"
   ]
  },
  {
   "cell_type": "code",
   "execution_count": 51,
   "id": "c02bbde5-2e7e-4e7d-9f06-b8a785162328",
   "metadata": {},
   "outputs": [
    {
     "data": {
      "text/plain": [
       "88820161869808512"
      ]
     },
     "execution_count": 51,
     "metadata": {},
     "output_type": "execute_result"
    }
   ],
   "source": [
    "l = [2,23,44,1,23,67,72,286,269,5141]\n",
    "def listProduct(l:list[int or float])->int or float:\n",
    "    \"\"\"Takes a list of numbers and returns\n",
    "    the product of the numbers\n",
    "\n",
    "    Args:\n",
    "        l (list[int or float]): list of numbers\n",
    "\n",
    "    Returns:\n",
    "        int or float: product of the numbers\n",
    "    \"\"\"\n",
    "    product = 1\n",
    "    for i in l:\n",
    "        product *= i\n",
    "    return product\n",
    "listProduct(l)\n",
    "\n"
   ]
  },
  {
   "cell_type": "markdown",
   "id": "9e866714-cb9a-4aba-9b7c-3df3f3449440",
   "metadata": {},
   "source": [
    "37. Write a Python program to reverse the order of words in a sentence while preserving the word order."
   ]
  },
  {
   "cell_type": "code",
   "execution_count": 52,
   "id": "24733e20-4755-42a8-a2fd-4749b30c9315",
   "metadata": {},
   "outputs": [
    {
     "data": {
      "text/plain": [
       "'aidnI denrecnoc revo staerht ot sti slaiciffo ni adanaC daeha fo inatsilahK yllar'"
      ]
     },
     "execution_count": 52,
     "metadata": {},
     "output_type": "execute_result"
    }
   ],
   "source": [
    "s=\"India concerned over threats to its officials in Canada ahead of Khalistani rally\"\n",
    "def strWordReversal(s:str)->str:\n",
    "    \"\"\"Takes a string of words and reverses the\n",
    "    words while preserving the order of words\n",
    "\n",
    "    Args:\n",
    "        s (str): string of words\n",
    "\n",
    "    Returns:\n",
    "        str: string with words reversed while preserving\n",
    "        the order of words\n",
    "    \"\"\"\n",
    "    l = s.split()\n",
    "    for i in range(len(l)):\n",
    "        l[i] = l[i][::-1]\n",
    "    return(\" \".join(l))\n",
    "strWordReversal(s)"
   ]
  },
  {
   "cell_type": "markdown",
   "id": "59e0e257-1689-4a80-a5b0-fd79e659f39f",
   "metadata": {},
   "source": [
    "38. Implement a function to find the missing number in a given list of consecutive numbers."
   ]
  },
  {
   "cell_type": "code",
   "execution_count": 53,
   "id": "ee6cdb0e-bf79-47cc-839f-fd6ec273c538",
   "metadata": {},
   "outputs": [
    {
     "data": {
      "text/plain": [
       "-6"
      ]
     },
     "execution_count": 53,
     "metadata": {},
     "output_type": "execute_result"
    }
   ],
   "source": [
    "arr = [-9, -8, -7, -5, -4, -3, -2, -1, 0 ]\n",
    "\n",
    "def findMissing(arr:list[int])->int:\n",
    "    \"\"\"Find and return the missing number in a given\n",
    "    list of consecutive numbers\n",
    "\n",
    "    Args:\n",
    "        arr (list[int]): list of consecutive numbers\n",
    "\n",
    "    Returns:\n",
    "        int: missing number\n",
    "    \"\"\"\n",
    "    low = min(arr)\n",
    "    high = max(arr)\n",
    "    for i in range(low, high+1):\n",
    "        if i not in arr:\n",
    "            return i\n",
    "    return -1\n",
    "findMissing(arr)\n",
    "\n"
   ]
  },
  {
   "cell_type": "markdown",
   "id": "cafd9136-c8dc-485b-9bc6-66d5b7c36df0",
   "metadata": {},
   "source": [
    "\n",
    "\n",
    "39. Write a program to find the sum of digits of a given number.\n"
   ]
  },
  {
   "cell_type": "code",
   "execution_count": 56,
   "id": "3c7ce0d2-ffbf-4e43-8101-222a54ced6b3",
   "metadata": {},
   "outputs": [
    {
     "data": {
      "text/plain": [
       "6"
      ]
     },
     "execution_count": 56,
     "metadata": {},
     "output_type": "execute_result"
    }
   ],
   "source": [
    "n = 222\n",
    "def sumofDigits(n:int)->int:\n",
    "    \"\"\"Calculate the sum of the digits of n\n",
    "    and returns their sum\n",
    "\n",
    "    Args:\n",
    "        n (int): integer\n",
    "\n",
    "    Returns:\n",
    "        int: _description_\n",
    "    \"\"\"\n",
    "    sum = 0\n",
    "    if n<0:\n",
    "        n=-n\n",
    "    for i in range(len(str(n))):\n",
    "        rem = n%10\n",
    "        sum+=rem\n",
    "        n = n//10\n",
    "    return(sum)\n",
    "sumofDigits(n)\n",
    "\n"
   ]
  },
  {
   "cell_type": "markdown",
   "id": "c0be7746-4581-4f2f-b66b-878911c86569",
   "metadata": {},
   "source": [
    "\n",
    "\n",
    "40. Implement a function to check if a given string is a valid palindrome considering case sensitivity.\n"
   ]
  },
  {
   "cell_type": "code",
   "execution_count": 57,
   "id": "853bf638-e2d7-450b-8571-55bba2121b4b",
   "metadata": {},
   "outputs": [
    {
     "name": "stdout",
     "output_type": "stream",
     "text": [
      "False\n",
      "True\n"
     ]
    }
   ],
   "source": [
    "s=\"Malayalam\"\n",
    "p =\"malayalam\"\n",
    "def isPalindrome(s:str)->bool:\n",
    "    \"\"\"checks if the string is a palindrome\n",
    "    considering case sensitivity\n",
    "\n",
    "    Args:\n",
    "        s (str): String to check\n",
    "\n",
    "    Returns:\n",
    "        bool: True if the string is palindrome\n",
    "    \"\"\"\n",
    "    return s == s[::-1]\n",
    "print(isPalindrome(s))\n",
    "print(isPalindrome(p))"
   ]
  },
  {
   "cell_type": "markdown",
   "id": "b3b95602-edd1-4601-b7fc-6fd124ca20fe",
   "metadata": {},
   "source": [
    "\n",
    "\n",
    "41. Write a Python program to find the smallest missing positive integer in a list.\n"
   ]
  },
  {
   "cell_type": "code",
   "execution_count": 58,
   "id": "6a621992-b9b0-415e-877c-984ae281cf37",
   "metadata": {},
   "outputs": [
    {
     "data": {
      "text/plain": [
       "4"
      ]
     },
     "execution_count": 58,
     "metadata": {},
     "output_type": "execute_result"
    }
   ],
   "source": [
    "\n",
    "\n",
    "A = [2, 3, -7, 6, 8, 1, -10, 15]\n",
    "def minPositiveInt(A:list[int])->int:\n",
    "    \"\"\"Finds and returns the minimum\n",
    "    missing positive integer\n",
    "\n",
    "    Args:\n",
    "        l (list[int]): list of integers\n",
    "\n",
    "    Returns:\n",
    "        int: minimum positive integer missing\n",
    "    \"\"\"\n",
    "    m = max(A)  # Storing maximum value\n",
    "    if m < 1:\n",
    " \n",
    "        # In case all values in our array are negative\n",
    "        return 1\n",
    "    if len(A) == 1:\n",
    " \n",
    "        # If it contains only one element\n",
    "        return 2 if A[0] == 1 else 1\n",
    "    l = [0] * m\n",
    "    for i in range(len(A)):\n",
    "        if A[i] > 0:\n",
    "            if l[A[i] - 1] != 1:\n",
    " \n",
    "                # Changing the value status at the index of our list\n",
    "                l[A[i] - 1] = 1\n",
    "    for i in range(len(l)):\n",
    " \n",
    "        # Encountering first 0, i.e, the element with least value\n",
    "        if l[i] == 0:\n",
    "            return i + 1\n",
    "            # In case all values are filled between 1 and m\n",
    "    return i + 2\n",
    " \n",
    "minPositiveInt(A)\n",
    "\n"
   ]
  },
  {
   "cell_type": "markdown",
   "id": "0ad44685-425a-4c33-a75f-71b291dcbd4b",
   "metadata": {},
   "source": [
    "\n",
    "\n",
    "42. Implement a function to find the longest palindrome substring in a given string.\n"
   ]
  },
  {
   "cell_type": "code",
   "execution_count": 59,
   "id": "cc7d98da-bfff-410a-8f79-cec30c674d0b",
   "metadata": {},
   "outputs": [
    {
     "name": "stdout",
     "output_type": "stream",
     "text": [
      "geeksskeeg\n"
     ]
    }
   ],
   "source": [
    "s = 'forgeeksskeegfor'\n",
    "pal = \"\"\n",
    "for i in range(len(s)):\n",
    "    for j in range(i, len(s)):\n",
    "        string = s[i:j]\n",
    "        if string == string[::-1] and len(string) > len(pal):\n",
    "            pal = string\n",
    "print(pal)"
   ]
  },
  {
   "cell_type": "markdown",
   "id": "884c4a9e-0d6b-4406-84da-1238d9d90bd9",
   "metadata": {},
   "source": [
    "43. Write a program to find the number of occurrences of a given element in a list."
   ]
  },
  {
   "cell_type": "code",
   "execution_count": 60,
   "id": "c85d065f-7e4e-4907-a434-6d2fde0da674",
   "metadata": {},
   "outputs": [
    {
     "data": {
      "text/plain": [
       "{1: 4, 2: 4, 3: 3, 4: 2, 6: 1, 5: 1}"
      ]
     },
     "execution_count": 60,
     "metadata": {},
     "output_type": "execute_result"
    }
   ],
   "source": [
    "l = [1,2,1,2,3,4,4,3,2,1,6,5,3,2,1]\n",
    "def countOccurance(l:list)->dict:\n",
    "    \"\"\"Takes a list of elements and counts the number of occurance\n",
    "    and returns a dictionary containing the counts\n",
    "\n",
    "    Args:\n",
    "        l (list): list of elements\n",
    "\n",
    "    Returns:\n",
    "        dict: key = element, value = count\n",
    "    \"\"\"\n",
    "    d = dict()\n",
    "    for i in l:\n",
    "        d[i] = d.get(i,0) + 1\n",
    "    return (d)\n",
    "countOccurance(l)\n",
    "\n"
   ]
  },
  {
   "cell_type": "markdown",
   "id": "ed511e3a-a33a-46b3-abe3-c59ebff46dae",
   "metadata": {},
   "source": [
    "\n",
    "\n",
    "44. Implement a function to check if a given number is a perfect number.\n"
   ]
  },
  {
   "cell_type": "code",
   "execution_count": 61,
   "id": "8a70faa2-3c4b-4dc6-b677-1c0a970c51f6",
   "metadata": {},
   "outputs": [
    {
     "data": {
      "text/plain": [
       "False"
      ]
     },
     "execution_count": 61,
     "metadata": {},
     "output_type": "execute_result"
    }
   ],
   "source": [
    "n =22\n",
    "def perfectNumber(n:int)->bool:\n",
    "    \"\"\"Determines whether n is a perfect number i.e the n is equal to \n",
    "    sum of its perfect divisors\n",
    "\n",
    "    Args:\n",
    "        n (int): integer number\n",
    "\n",
    "    Returns:\n",
    "        bool: True if n is a perfect number\n",
    "    \"\"\"\n",
    "    if n == 0:\n",
    "        return False\n",
    "    else:\n",
    "        sum = 0\n",
    "        for i in range(1,n):\n",
    "            if n%i == 0:\n",
    "                sum+=i\n",
    "    if n == sum:\n",
    "        return True\n",
    "    return False\n",
    "perfectNumber(n)\n",
    "\n"
   ]
  },
  {
   "cell_type": "markdown",
   "id": "dd25db54-253b-41a8-8527-08b0da57ee55",
   "metadata": {},
   "source": [
    "\n",
    "\n",
    "45. Write a Python program to remove all duplicates from a string.\n"
   ]
  },
  {
   "cell_type": "code",
   "execution_count": 62,
   "id": "f22b4679-8837-4d37-8b68-ad712b4f9b38",
   "metadata": {},
   "outputs": [
    {
     "data": {
      "text/plain": [
       "'skgoerf'"
      ]
     },
     "execution_count": 62,
     "metadata": {},
     "output_type": "execute_result"
    }
   ],
   "source": [
    "s = 'forgeeksskeegfor'\n",
    "def removeDuplicates(s:str)->str:\n",
    "    \"\"\"Takes a string s and returns it after removing duplicates\n",
    "\n",
    "    Args:\n",
    "        s (str): string with duplicates\n",
    "\n",
    "    Returns:\n",
    "        str: string without duplicates\n",
    "    \"\"\"\n",
    "    return \"\".join(set(list(s)))\n",
    "removeDuplicates(s)\n",
    "\n"
   ]
  },
  {
   "cell_type": "markdown",
   "id": "4f692cd2-d180-4417-9539-53d78fd307fe",
   "metadata": {},
   "source": [
    "46. Implement a function to find the first missing positive"
   ]
  },
  {
   "cell_type": "code",
   "execution_count": 63,
   "id": "76fed8c9-94fd-45c5-8fab-443bbc591c17",
   "metadata": {},
   "outputs": [
    {
     "data": {
      "text/plain": [
       "4"
      ]
     },
     "execution_count": 63,
     "metadata": {},
     "output_type": "execute_result"
    }
   ],
   "source": [
    "\n",
    "A = [2, 3, -7, 6, 8, 1, -10, 15]\n",
    "def firstMissingPositive(A:list[int])->int:\n",
    "    \"\"\"takes a list of integers\n",
    "    and returns the first missing positive integer\n",
    "\n",
    "    Args:\n",
    "        A (list[int]): list of integers\n",
    "\n",
    "    Returns:\n",
    "        int: first missing positive integer\n",
    "    \"\"\"\n",
    "    l = [x for x in A if x > 0]\n",
    "    m = max(l)\n",
    "    if m<1: return 1\n",
    "    elif len(l) == 1: return 2 if l[0] == 1 else 1\n",
    "    for i in range(1, len(l)):\n",
    "        if l[i] - l[i-1] > 1:\n",
    "            return l[i-1] + 1\n",
    "            break\n",
    "    return l[-1] + 1\n",
    "firstMissingPositive(A)\n",
    "    \n",
    "\n"
   ]
  },
  {
   "cell_type": "code",
   "execution_count": null,
   "id": "4ea3cb9c-22c9-48b5-996c-86ce32f4dd34",
   "metadata": {},
   "outputs": [],
   "source": []
  }
 ],
 "metadata": {
  "kernelspec": {
   "display_name": "Python 3 (ipykernel)",
   "language": "python",
   "name": "python3"
  },
  "language_info": {
   "codemirror_mode": {
    "name": "ipython",
    "version": 3
   },
   "file_extension": ".py",
   "mimetype": "text/x-python",
   "name": "python",
   "nbconvert_exporter": "python",
   "pygments_lexer": "ipython3",
   "version": "3.10.8"
  }
 },
 "nbformat": 4,
 "nbformat_minor": 5
}
