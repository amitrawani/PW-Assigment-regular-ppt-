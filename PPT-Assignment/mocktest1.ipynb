{
  "nbformat": 4,
  "nbformat_minor": 0,
  "metadata": {
    "colab": {
      "provenance": []
    },
    "kernelspec": {
      "name": "python3",
      "display_name": "Python 3"
    },
    "language_info": {
      "name": "python"
    }
  },
  "cells": [
    {
      "cell_type": "markdown",
      "source": [
        "17. Write a function that takes a list of numbers as input and returns a new list containing only the even numbers from the input list. Use list comprehension to solve this problem.\n",
        "\n",
        "Example:\n",
        "\n",
        "Input: [1, 2, 3, 4, 5, 6, 7, 8, 9, 10]\n",
        "\n",
        "Output: [2, 4, 6, 8, 10]"
      ],
      "metadata": {
        "id": "IpUGsIPIUmgx"
      }
    },
    {
      "cell_type": "code",
      "source": [
        "\n",
        "\n",
        "x = [1, 2, 3, 4, 5, 6, 7, 8, 9, 10]\n",
        "def evenList(x: list[int])-> list[int]:\n",
        "    \"\"\"takes a list of integers and returns a list\n",
        "    with only the even integers\n",
        "\n",
        "    Args:\n",
        "        x (list[int]): list of integers\n",
        "\n",
        "    Returns:\n",
        "        list[int]: list of even integers\n",
        "    \"\"\"\n",
        "    return [i for i in x if i%2==0]\n",
        "evenList(x)\n",
        "\n"
      ],
      "metadata": {
        "colab": {
          "base_uri": "https://localhost:8080/"
        },
        "id": "LRGgwzUFUome",
        "outputId": "077f6f8b-4f70-4d40-c6fd-bf97b1be6a6a"
      },
      "execution_count": 1,
      "outputs": [
        {
          "output_type": "execute_result",
          "data": {
            "text/plain": [
              "[2, 4, 6, 8, 10]"
            ]
          },
          "metadata": {},
          "execution_count": 1
        }
      ]
    },
    {
      "cell_type": "markdown",
      "source": [
        "18. Implement a decorator function called ‘timer’ that measures the execution time of a function. The ‘timer’ decorator should print the time taken by the decorated function to execute. Use the ‘time’ module in Python to calculate the execution time.\n",
        "\n",
        "Example:\n",
        "\n",
        "import time\n",
        "\n",
        "@timer\n",
        "def my_function():\n",
        "    # Function code goes here\n",
        "    time.sleep(2)\n",
        "\n",
        "my_function()\n",
        "\n",
        "Output:\n",
        "\"Execution time: 2.00123 seconds\""
      ],
      "metadata": {
        "id": "Lt6njiWWUzD1"
      }
    },
    {
      "cell_type": "code",
      "source": [
        "\n",
        "\n",
        "import time\n",
        "def timer(func):\n",
        "    def timing(*args, **kwargs):\n",
        "        begin = time.time()\n",
        "        func(*args,**kwargs)\n",
        "        end = time.time()\n",
        "        print(f\"Execution time:{end-begin} seconds\")\n",
        "    return timing\n",
        "\n",
        "@timer\n",
        "def my_function(n:int):\n",
        "    time.sleep(2)\n",
        "    print(n**n)\n",
        "\n",
        "my_function(10)\n",
        "\n",
        "\n"
      ],
      "metadata": {
        "colab": {
          "base_uri": "https://localhost:8080/"
        },
        "id": "MrQHNrleU8Wz",
        "outputId": "1c3e2834-89c6-4a0e-ac13-d38d59652ae2"
      },
      "execution_count": 2,
      "outputs": [
        {
          "output_type": "stream",
          "name": "stdout",
          "text": [
            "10000000000\n",
            "Execution time:2.002648115158081 seconds\n"
          ]
        }
      ]
    },
    {
      "cell_type": "markdown",
      "source": [
        "19. Write a function called ‘calculate_mean’ that takes a list of numbers as input and returns the mean (average) of the numbers. The function should calculate the mean using the sum of the numbers divided by the total count.\n",
        "\n",
        "Example:\n",
        "\n",
        "def calculate_mean(numbers):\n",
        "    total = sum(numbers)\n",
        "    count = len(numbers)\n",
        "    mean = total / count\n",
        "    return mean\n",
        "\n",
        "data = [10, 15, 20, 25, 30]\n",
        "mean_value = calculate_mean(data)\n",
        "print(\"Mean:\", mean_value)\n",
        "\n",
        "Output:\n",
        "Mean: 20.0"
      ],
      "metadata": {
        "id": "zcZp4mdWVDSS"
      }
    },
    {
      "cell_type": "code",
      "source": [
        "\n",
        "\n",
        "data = [10, 15, 20, 25, 30]\n",
        "def calculate_mean(data:list[int])->float:\n",
        "    \"\"\"takes a list of integers (data) and returns the mean\n",
        "\n",
        "    Args:\n",
        "        data (list[int]): list of integers\n",
        "\n",
        "    Returns:\n",
        "        float: mean of the data\n",
        "    \"\"\"\n",
        "    total = sum(data)\n",
        "    count = len(data)\n",
        "    mean = total / count\n",
        "    return(mean)\n",
        "mean_value = calculate_mean(data)\n",
        "print(\"Mean:\", mean_value)\n",
        "\n"
      ],
      "metadata": {
        "colab": {
          "base_uri": "https://localhost:8080/"
        },
        "id": "w8wgiEcsVIEz",
        "outputId": "8db01159-ede1-4d36-94e0-63db6acf739f"
      },
      "execution_count": 3,
      "outputs": [
        {
          "output_type": "stream",
          "name": "stdout",
          "text": [
            "Mean: 20.0\n"
          ]
        }
      ]
    },
    {
      "cell_type": "markdown",
      "source": [
        "20. Write a function called ‘perform_hypothesis_test’ that takes two lists of numbers as input, representing two samples. The function should perform a two-sample t-test and return the p-value. Use the ‘scipy.stats’ module in Python to calculate the t-test and p-value.\n",
        "\n",
        "Example:\n",
        "\n",
        "from scipy import stats\n",
        "\n",
        "def perform_hypothesis_test(sample1, sample2):\n",
        "    t_statistic, p_value = stats.ttest_ind(sample1, sample2)\n",
        "    return p_value\n",
        "\n",
        "sample1 = [5, 10, 15, 20, 25]\n",
        "sample2 = [10, 20, 30, 40, 50]\n",
        "p_value = perform_hypothesis_test(sample1, sample2)\n",
        "print(\"P-value:\", p_value)\n",
        "\n",
        "Output:\n",
        "P-value: 0.1064706396450037"
      ],
      "metadata": {
        "id": "VsjcRmg8VPEn"
      }
    },
    {
      "cell_type": "code",
      "source": [
        "sample1 = [5, 10, 15, 20, 25]\n",
        "sample2 = [10, 20, 30, 40, 50]\n",
        "def perform_hypothesis_test(sample1:list[int], sample2:list[int])->float:\n",
        "    \"\"\"Takes 2 samples and performs a 2-sample hypothesis test\n",
        "    on them and returns the p-value of the hypothesis test\n",
        "\n",
        "    Args:\n",
        "        sample1 (list[int]): sample 1\n",
        "        sample2 (list[int]): sample 2\n",
        "\n",
        "    return (float): p-value\n",
        "    \"\"\"\n",
        "    from scipy import stats\n",
        "    t_statistic , p_value = stats.ttest_ind(sample1, sample2)\n",
        "    return p_value\n",
        "\n",
        "p_value = perform_hypothesis_test(sample1, sample2)\n",
        "print(\"P-value:\", p_value)"
      ],
      "metadata": {
        "colab": {
          "base_uri": "https://localhost:8080/"
        },
        "id": "CrZYo9gAVUP3",
        "outputId": "c799187c-9b7e-427c-b6eb-8009a74a5926"
      },
      "execution_count": 4,
      "outputs": [
        {
          "output_type": "stream",
          "name": "stdout",
          "text": [
            "P-value: 0.09434977284243756\n"
          ]
        }
      ]
    }
  ]
}