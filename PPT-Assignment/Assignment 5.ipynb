{
 "cells": [
  {
   "cell_type": "markdown",
   "id": "9613fbc1-454b-4759-b7c9-210465c821a8",
   "metadata": {},
   "source": [
    "# Assignment Questions 5 "
   ]
  },
  {
   "cell_type": "code",
   "execution_count": null,
   "id": "a76b43a9-18d8-4c65-a322-d847da76932b",
   "metadata": {},
   "outputs": [],
   "source": [
    " **Question 1**\n",
    "\n",
    "Convert 1D Array Into 2D Array\n",
    "\n",
    "You are given a **0-indexed** 1-dimensional (1D) integer array original, and two integers, m and n. You are tasked with creating a \n",
    "2-dimensional (2D) array with  m rows and n columns using **all** the elements from original.\n",
    "\n",
    "The elements from indices 0 to n - 1 (**inclusive**) of original should form the first row of the constructed 2D array, the elements \n",
    "from indices n to 2 * n - 1 (**inclusive**) should form the second row of the constructed 2D array, and so on.\n",
    "\n",
    "Return *an* m x n *2D array constructed according to the above procedure, or an empty 2D array if it is impossible*.\n",
    "\n",
    "\n",
    "\n"
   ]
  },
  {
   "cell_type": "code",
   "execution_count": 1,
   "id": "f0877a19-d04c-42f9-969d-2fc077edbad7",
   "metadata": {},
   "outputs": [
    {
     "ename": "SyntaxError",
     "evalue": "invalid syntax (689406645.py, line 1)",
     "output_type": "error",
     "traceback": [
      "\u001b[0;36m  Cell \u001b[0;32mIn[1], line 1\u001b[0;36m\u001b[0m\n\u001b[0;31m    **Example 1:**\u001b[0m\n\u001b[0m    ^\u001b[0m\n\u001b[0;31mSyntaxError\u001b[0m\u001b[0;31m:\u001b[0m invalid syntax\n"
     ]
    }
   ],
   "source": [
    "**Example 1:**\n",
    "src=\"work/q1.png\""
   ]
  },
  {
   "cell_type": "code",
   "execution_count": 2,
   "id": "11d8a687-679d-4afd-96e4-27de98a6462a",
   "metadata": {},
   "outputs": [
    {
     "data": {
      "text/plain": [
       "[[1, 2], [3, 4]]"
      ]
     },
     "execution_count": 2,
     "metadata": {},
     "output_type": "execute_result"
    }
   ],
   "source": [
    "original = [1,2,3,4]\n",
    "m = 2\n",
    "n = 2\n",
    "def construct2DArray(original: list[int], m: int, n: int) -> list[list[int]]:\n",
    "    \"\"\"Takes a 1D array and constructs a 2D array\n",
    "\n",
    "    Args:\n",
    "        original (list[int]): 1D array of integers\n",
    "        m (int): number of rows in the 2D array\n",
    "        n (int): number of columns in the 2D array\n",
    "\n",
    "    Returns:\n",
    "        list[list[int]]: 2D array of integers\n",
    "    \"\"\"\n",
    "    if len(original) != m*n:\n",
    "        return []\n",
    "    else:\n",
    "        result = []\n",
    "        for i in range(0,len(original),n):\n",
    "            result.append(original[i:i+n])\n",
    "        return result\n",
    "construct2DArray(original,m,n)"
   ]
  },
  {
   "cell_type": "code",
   "execution_count": 3,
   "id": "dcad82d3-5083-4082-8dd5-d86deac71fc2",
   "metadata": {},
   "outputs": [
    {
     "data": {
      "text/plain": [
       "2"
      ]
     },
     "execution_count": 3,
     "metadata": {},
     "output_type": "execute_result"
    }
   ],
   "source": [
    "def row_count(n:int,count=0)->int:\n",
    "    left = 0 \n",
    "    right  = n\n",
    "    while left <= right:\n",
    "        k = (left + right) //2\n",
    "        curr = k * (k+1) //2 ## sum of 1+2+3+4+5....k =  k(k+1)//2\n",
    "        if curr == n:\n",
    "            return k\n",
    "        elif n < curr:\n",
    "            right = k - 1 \n",
    "        else:\n",
    "            left = k + 1\n",
    "\n",
    "    return right\n",
    "row_count(5)"
   ]
  },
  {
   "cell_type": "code",
   "execution_count": 4,
   "id": "491cb10f-c8e4-4b9d-b85b-b41c52ca08f9",
   "metadata": {},
   "outputs": [
    {
     "data": {
      "text/plain": [
       "[0, 1, 9, 16, 100]"
      ]
     },
     "execution_count": 4,
     "metadata": {},
     "output_type": "execute_result"
    }
   ],
   "source": [
    "nums = [-4,-1,0,3,10]\n",
    "def sorted_square(nums:list[int])->list:\n",
    "    \"\"\"takes a list of numbers\n",
    "    squares them and returns a sorted list\n",
    "\n",
    "    Args:\n",
    "        nums (list[int]): list of numbers\n",
    "\n",
    "    Returns:\n",
    "        list: sorted list of numbers squared\n",
    "    \"\"\"\n",
    "    \n",
    "    return sorted([x**2 for x in nums])\n",
    "\n",
    "sorted_square(nums)"
   ]
  },
  {
   "cell_type": "code",
   "execution_count": 5,
   "id": "ba117a21-4d17-424d-b3e1-edaf383691e4",
   "metadata": {},
   "outputs": [
    {
     "data": {
      "text/plain": [
       "[[1, 3], [4, 6]]"
      ]
     },
     "execution_count": 5,
     "metadata": {},
     "output_type": "execute_result"
    }
   ],
   "source": [
    "nums1 = [1,2,3]\n",
    "nums2 = [2,4,6]\n",
    "def findDifference(nums1: list[int], nums2: list[int]) -> list[list[int]]:\n",
    "    \"\"\"Takes 2 arrays of numbers and returns \n",
    "    a list of differences between each array with the other array\n",
    "\n",
    "    Args:\n",
    "        nums1 (list[int]): array of numbers\n",
    "        nums2 (list[int]): array of numbers\n",
    "\n",
    "    Returns:\n",
    "        list[list[int]]: list[array1 - array2 , array2 - array1]\n",
    "    \"\"\"\n",
    "    return [list(set(nums1).difference(nums2)), list(set(nums2).difference(nums1))]\n",
    "findDifference(nums1, nums2)"
   ]
  },
  {
   "cell_type": "code",
   "execution_count": null,
   "id": "fe1427be-5974-438d-9bf8-13854a3dc69c",
   "metadata": {},
   "outputs": [],
   "source": []
  }
 ],
 "metadata": {
  "kernelspec": {
   "display_name": "Python 3 (ipykernel)",
   "language": "python",
   "name": "python3"
  },
  "language_info": {
   "codemirror_mode": {
    "name": "ipython",
    "version": 3
   },
   "file_extension": ".py",
   "mimetype": "text/x-python",
   "name": "python",
   "nbconvert_exporter": "python",
   "pygments_lexer": "ipython3",
   "version": "3.10.8"
  }
 },
 "nbformat": 4,
 "nbformat_minor": 5
}
