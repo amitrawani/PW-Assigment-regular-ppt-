{
 "cells": [
  {
   "cell_type": "markdown",
   "id": "9613fbc1-454b-4759-b7c9-210465c821a8",
   "metadata": {},
   "source": [
    "# Assignment Questions 5 "
   ]
  },
  {
   "cell_type": "markdown",
   "id": "79b48cc9-a208-4eec-a381-b8503939a8dd",
   "metadata": {},
   "source": [
    " **Question 1**\n",
    "\n",
    "Convert 1D Array Into 2D Array\n",
    "\n",
    "You are given a **0-indexed** 1-dimensional (1D) integer array original, and two integers, m and n. You are tasked with creating a \n",
    "2-dimensional (2D) array with  m rows and n columns using **all** the elements from original.\n",
    "\n",
    "The elements from indices 0 to n - 1 (**inclusive**) of original should form the first row of the constructed 2D array, the elements \n",
    "from indices n to 2 * n - 1 (**inclusive**) should form the second row of the constructed 2D array, and so on.\n",
    "\n",
    "Return *an* m x n *2D array constructed according to the above procedure, or an empty 2D array if it is impossible*.\n",
    "\n",
    "**Example 1:**\n",
    "\n"
   ]
  },
  {
   "cell_type": "code",
   "execution_count": 22,
   "id": "a5a14c0a-47f5-495c-80f3-235e2a105978",
   "metadata": {},
   "outputs": [
    {
     "name": "stdout",
     "output_type": "stream",
     "text": [
      "/bin/bash: line 1: work/q1.png: No such file or directory\n"
     ]
    }
   ],
   "source": [
    "!work/q1.png"
   ]
  },
  {
   "cell_type": "markdown",
   "id": "e52f227b-c562-49a4-abf9-cbbda1b65d56",
   "metadata": {},
   "source": [
    "**Input:** original = [1,2,3,4], m = 2, n = 2\n",
    "\n",
    "**Output:** [[1,2],[3,4]]\n",
    "\n",
    "**Explanation:** The constructed 2D array should contain 2 rows and 2 columns.\n",
    "\n",
    "The first group of n=2 elements in original, [1,2], becomes the first row in the constructed 2D array.\n",
    "\n",
    "The second group of n=2 elements in original, [3,4], becomes the second row in the constructed 2D array."
   ]
  },
  {
   "cell_type": "code",
   "execution_count": 9,
   "id": "11d8a687-679d-4afd-96e4-27de98a6462a",
   "metadata": {},
   "outputs": [
    {
     "data": {
      "text/plain": [
       "[[1, 2], [3, 4]]"
      ]
     },
     "execution_count": 9,
     "metadata": {},
     "output_type": "execute_result"
    }
   ],
   "source": [
    "original = [1,2,3,4]\n",
    "m = 2\n",
    "n = 2\n",
    "def construct2DArray(original: list[int], m: int, n: int) -> list[list[int]]:\n",
    "    \"\"\"Takes a 1D array and constructs a 2D array\n",
    "\n",
    "    Args:\n",
    "        original (list[int]): 1D array of integers\n",
    "        m (int): number of rows in the 2D array\n",
    "        n (int): number of columns in the 2D array\n",
    "\n",
    "    Returns:\n",
    "        list[list[int]]: 2D array of integers\n",
    "    \"\"\"\n",
    "    if len(original) != m*n:\n",
    "        return []\n",
    "    else:\n",
    "        result = []\n",
    "        for i in range(0,len(original),n):\n",
    "            result.append(original[i:i+n])\n",
    "        return result\n",
    "construct2DArray(original,m,n)"
   ]
  },
  {
   "cell_type": "code",
   "execution_count": null,
   "id": "e36907e4-246a-4ebb-b5f6-0dbb4f76bb10",
   "metadata": {},
   "outputs": [],
   "source": []
  },
  {
   "cell_type": "markdown",
   "id": "e7b5a6ff-eb5a-45d2-a235-caca7566ede1",
   "metadata": {},
   "source": [
    "Question 2. You have n coins and you want to build a staircase with these coins. The staircase consists of k rows where the ith row\n",
    "has exactly i coins. The last row of the staircase **may be** incomplete.\n",
    "\n",
    "Given the integer n, return *the number of **complete rows** of the staircase you will build*.\n",
    "\n",
    "**Example 1:**"
   ]
  },
  {
   "cell_type": "code",
   "execution_count": 21,
   "id": "5bd89c80-83d1-4cf3-b835-e69616886177",
   "metadata": {},
   "outputs": [
    {
     "name": "stdout",
     "output_type": "stream",
     "text": [
      "/bin/bash: line 1: work/q2.png: No such file or directory\n"
     ]
    }
   ],
   "source": [
    "!work/q2.png"
   ]
  },
  {
   "cell_type": "markdown",
   "id": "f73b5249-33f1-40b0-92bb-dd763ac0645c",
   "metadata": {},
   "source": [
    "**Input:** n = 5\n",
    "\n",
    "**Output:** 2\n",
    "\n",
    "**Explanation:** Because the 3rd row is incomplete, we return 2."
   ]
  },
  {
   "cell_type": "code",
   "execution_count": 11,
   "id": "dcad82d3-5083-4082-8dd5-d86deac71fc2",
   "metadata": {},
   "outputs": [
    {
     "data": {
      "text/plain": [
       "2"
      ]
     },
     "execution_count": 11,
     "metadata": {},
     "output_type": "execute_result"
    }
   ],
   "source": [
    "def row_count(n:int,count=0)->int:\n",
    "    left = 0 \n",
    "    right  = n\n",
    "    while left <= right:\n",
    "        k = (left + right) //2\n",
    "        curr = k * (k+1) //2 ## sum of 1+2+3+4+5....k =  k(k+1)//2\n",
    "        if curr == n:\n",
    "            return k\n",
    "        elif n < curr:\n",
    "            right = k - 1 \n",
    "        else:\n",
    "            left = k + 1\n",
    "\n",
    "    return right\n",
    "row_count(5)"
   ]
  },
  {
   "cell_type": "code",
   "execution_count": null,
   "id": "a561b54e-881d-4a04-a714-2894260c2a62",
   "metadata": {},
   "outputs": [],
   "source": []
  },
  {
   "cell_type": "markdown",
   "id": "b66d9afc-e177-45c8-881b-86c9839e208a",
   "metadata": {},
   "source": [
    "**Question 3**\n",
    "\n",
    "Given an integer array nums sorted in **non-decreasing** order, return *an array of **the squares of each number** sorted in\n",
    "non-decreasing order*.\n",
    "\n",
    "**Example 1:**\n",
    "\n",
    "**Input:** nums = [-4,-1,0,3,10]\n",
    "\n",
    "**Output:** [0,1,9,16,100]\n",
    "\n",
    "**Explanation:** After squaring, the array becomes [16,1,0,9,100].\n",
    "\n",
    "After sorting, it becomes [0,1,9,16,100].\n",
    "\n"
   ]
  },
  {
   "cell_type": "code",
   "execution_count": 12,
   "id": "491cb10f-c8e4-4b9d-b85b-b41c52ca08f9",
   "metadata": {},
   "outputs": [
    {
     "data": {
      "text/plain": [
       "[0, 1, 9, 16, 100]"
      ]
     },
     "execution_count": 12,
     "metadata": {},
     "output_type": "execute_result"
    }
   ],
   "source": [
    "nums = [-4,-1,0,3,10]\n",
    "def sorted_square(nums:list[int])->list:\n",
    "    \"\"\"takes a list of numbers\n",
    "    squares them and returns a sorted list\n",
    "\n",
    "    Args:\n",
    "        nums (list[int]): list of numbers\n",
    "\n",
    "    Returns:\n",
    "        list: sorted list of numbers squared\n",
    "    \"\"\"\n",
    "    \n",
    "    return sorted([x**2 for x in nums])\n",
    "\n",
    "sorted_square(nums)"
   ]
  },
  {
   "cell_type": "code",
   "execution_count": null,
   "id": "eb9b8ba3-7d40-46e4-8b18-0006420b559a",
   "metadata": {},
   "outputs": [],
   "source": []
  },
  {
   "cell_type": "markdown",
   "id": "63829bac-ea7c-44c0-b8b1-5700ba737844",
   "metadata": {},
   "source": [
    "**Question 4**\n",
    "\n",
    "Given two **0-indexed** integer arrays nums1 and nums2, return *a list* answer *of size* 2 *where:*\n",
    "\n",
    "- answer[0] *is a list of all **distinct** integers in* nums1 *which are **not** present in* nums2*.*\n",
    "- answer[1] *is a list of all **distinct** integers in* nums2 *which are **not** present in* nums1.\n",
    "\n",
    "**Note** that the integers in the lists may be returned in **any** order.\n",
    "\n",
    "**Example 1:**\n",
    "\n",
    "**Input:** nums1 = [1,2,3], nums2 = [2,4,6]\n",
    "\n",
    "**Output:** [[1,3],[4,6]]\n",
    "\n",
    "**Explanation:**\n",
    "\n",
    "For nums1, nums1[1] = 2 is present at index 0 of nums2, whereas nums1[0] = 1 and nums1[2] = 3 are not present in nums2. Therefore, \n",
    "answer[0] = [1,3].\n",
    "\n",
    "For nums2, nums2[0] = 2 is present at index 1 of nums1, whereas nums2[1] = 4 and nums2[2] = 6 are not present in nums2. Therefore, \n",
    "answer[1] = [4,6].\n",
    "\n"
   ]
  },
  {
   "cell_type": "code",
   "execution_count": 13,
   "id": "ba117a21-4d17-424d-b3e1-edaf383691e4",
   "metadata": {},
   "outputs": [
    {
     "data": {
      "text/plain": [
       "[[1, 3], [4, 6]]"
      ]
     },
     "execution_count": 13,
     "metadata": {},
     "output_type": "execute_result"
    }
   ],
   "source": [
    "nums1 = [1,2,3]\n",
    "nums2 = [2,4,6]\n",
    "def findDifference(nums1: list[int], nums2: list[int]) -> list[list[int]]:\n",
    "    \"\"\"Takes 2 arrays of numbers and returns \n",
    "    a list of differences between each array with the other array\n",
    "\n",
    "    Args:\n",
    "        nums1 (list[int]): array of numbers\n",
    "        nums2 (list[int]): array of numbers\n",
    "\n",
    "    Returns:\n",
    "        list[list[int]]: list[array1 - array2 , array2 - array1]\n",
    "    \"\"\"\n",
    "    return [list(set(nums1).difference(nums2)), list(set(nums2).difference(nums1))]\n",
    "findDifference(nums1, nums2)"
   ]
  },
  {
   "cell_type": "code",
   "execution_count": null,
   "id": "fe1427be-5974-438d-9bf8-13854a3dc69c",
   "metadata": {},
   "outputs": [],
   "source": []
  },
  {
   "cell_type": "markdown",
   "id": "6c26d60b-c04c-4786-b54c-1648a0c50f56",
   "metadata": {},
   "source": [
    "**Question 5**\n",
    "\n",
    "Given two integer arrays arr1 and arr2, and the integer d, *return the distance value between the two arrays*.\n",
    "\n",
    "The distance value is defined as the number of elements arr1[i] such that there is not any element arr2[j] where |arr1[i]-arr2[j]| <= d.\n",
    "\n",
    "**Example 1:**\n",
    "\n",
    "**Input:** arr1 = [4,5,8], arr2 = [10,9,1,8], d = 2\n",
    "\n",
    "**Output:** 2\n",
    "\n",
    "**Explanation:**\n",
    "\n",
    "For arr1[0]=4 we have:\n",
    "\n",
    "|4-10|=6 > d=2\n",
    "\n",
    "|4-9|=5 > d=2\n",
    "\n",
    "|4-1|=3 > d=2\n",
    "\n",
    "|4-8|=4 > d=2\n",
    "\n",
    "For arr1[1]=5 we have:\n",
    "\n",
    "|5-10|=5 > d=2\n",
    "\n",
    "|5-9|=4 > d=2\n",
    "\n",
    "|5-1|=4 > d=2\n",
    "\n",
    "|5-8|=3 > d=2\n",
    "\n",
    "For arr1[2]=8 we have:\n",
    "\n",
    "**|8-10|=2 <= d=2**\n",
    "\n",
    "**|8-9|=1 <= d=2**\n",
    "\n",
    "|8-1|=7 > d=2\n",
    "\n",
    "**|8-8|=0 <= d=2**\n",
    "\n",
    "</aside>"
   ]
  },
  {
   "cell_type": "code",
   "execution_count": 14,
   "id": "78844af4-7117-4fc7-9fdf-9c017f65991b",
   "metadata": {},
   "outputs": [
    {
     "data": {
      "text/plain": [
       "2"
      ]
     },
     "execution_count": 14,
     "metadata": {},
     "output_type": "execute_result"
    }
   ],
   "source": [
    "arr1 = [4,5,8]\n",
    "arr2 = [10,9,1,8]\n",
    "d = 2\n",
    "def findTheDistanceValue(arr1: list[int], arr2: list[int], d: int) -> int:\n",
    "        res, buckets = 0, dict() # (minVa, maxVal)\n",
    "        \n",
    "        def getKey(val):\n",
    "            return val // d\n",
    "        \n",
    "        def addVal(val):\n",
    "            key = getKey(val)\n",
    "            #save only min and max value in bucket, others values not\n",
    "            if key in buckets:\n",
    "                if buckets[key][0] > val: buckets[key][0] = val\n",
    "                elif buckets[key][1] < val: buckets[key][1] = val\n",
    "            else:\n",
    "                buckets[key] = [val, val]\n",
    "        \n",
    "        #initialize buckets     \n",
    "        for val in arr2: addVal(val)\n",
    "\n",
    "        for val in arr1:\n",
    "            key = getKey(val)\n",
    "            if key in buckets: continue #in one bucket all values x < d\n",
    "            #check sibling buckets\n",
    "            if key - 1 in buckets and val - buckets[key-1][1] <= d: continue #maxVal from the left side is nearest\n",
    "            if key + 1 in buckets and buckets[key+1][0] - val <= d: continue #minVal from the right side is nearest\n",
    "            res += 1\n",
    "\n",
    "        return res\n",
    "\n",
    "findTheDistanceValue(arr1 , arr2 ,d)"
   ]
  },
  {
   "cell_type": "code",
   "execution_count": null,
   "id": "6e9c285d-03d9-4ab9-81ac-c98cd0a89356",
   "metadata": {},
   "outputs": [],
   "source": []
  },
  {
   "cell_type": "markdown",
   "id": "13c4d8e9-49cf-4697-a83c-d4a28f4c0644",
   "metadata": {},
   "source": [
    "**Question 6**\n",
    "\n",
    "Given an integer array nums of length n where all the integers of nums are in the range [1, n] and each integer appears \n",
    "**once** or **twice**, return *an array of all the integers that appears **twice***.\n",
    "\n",
    "You must write an algorithm that runs in O(n) time and uses only constant extra space.\n",
    "\n",
    "**Example 1:**\n",
    "\n",
    "**Input:** nums = [4,3,2,7,8,2,3,1]\n",
    "\n",
    "**Output:**\n",
    "\n",
    "[2,3]\n",
    "\n",
    "</aside>\n"
   ]
  },
  {
   "cell_type": "code",
   "execution_count": 15,
   "id": "8cc80e71-8eb0-4c38-ab7c-0849ca721fd2",
   "metadata": {},
   "outputs": [
    {
     "data": {
      "text/plain": [
       "[3, 2]"
      ]
     },
     "execution_count": 15,
     "metadata": {},
     "output_type": "execute_result"
    }
   ],
   "source": [
    "nums = [4,3,2,7,8,2,3,1]\n",
    "def findDuplicates(nums: list[int]) -> list[int]:\n",
    "    d = {}\n",
    "    for i in nums:\n",
    "        d[i] = d.get(i,0) + 1\n",
    "    result = [key for key,value in d.items() if value==2]\n",
    "    return(result)\n",
    "findDuplicates(nums)"
   ]
  },
  {
   "cell_type": "code",
   "execution_count": null,
   "id": "173ec49e-d3b0-4aa3-ad6e-0a88b1697de6",
   "metadata": {},
   "outputs": [],
   "source": []
  },
  {
   "cell_type": "markdown",
   "id": "3a69eed7-394d-4148-bc4e-e63532c60dd5",
   "metadata": {},
   "source": [
    "**Question 7**\n",
    "\n",
    "Suppose an array of length n sorted in ascending order is **rotated** between 1 and n times. For example, the array \n",
    "nums = [0,1,2,4,5,6,7] might become:\n",
    "\n",
    "- [4,5,6,7,0,1,2] if it was rotated 4 times.\n",
    "- [0,1,2,4,5,6,7] if it was rotated 7 times.\n",
    "\n",
    "Notice that **rotating** an array [a[0], a[1], a[2], ..., a[n-1]] 1 time results in the array [a[n-1], a[0], a[1], a[2], ..., a[n-2]].\n",
    "\n",
    "Given the sorted rotated array nums of **unique** elements, return *the minimum element of this array*.\n",
    "\n",
    "You must write an algorithm that runs in O(log n) time.\n",
    "\n",
    "**Example 1:**\n",
    "\n",
    "**Input:** nums = [3,4,5,1,2]\n",
    "\n",
    "**Output:** 1\n",
    "\n",
    "**Explanation:**\n",
    "\n",
    "The original array was [1,2,3,4,5] rotated 3 times.\n",
    "\n"
   ]
  },
  {
   "cell_type": "code",
   "execution_count": 16,
   "id": "0219b809-5aad-4980-a92a-1e8cc29f834c",
   "metadata": {},
   "outputs": [
    {
     "data": {
      "text/plain": [
       "1"
      ]
     },
     "execution_count": 16,
     "metadata": {},
     "output_type": "execute_result"
    }
   ],
   "source": [
    "nums = [3,4,5,1,2]\n",
    "r = 3\n",
    "def rotateArray(nums:list[int])->int:\n",
    "    \"\"\"Takes an array of numbers sorted in ascending order\n",
    "    which has been rotated and returns its minimum value\n",
    "\n",
    "    Args:\n",
    "        nums (list[int]): array of numbers\n",
    "        \n",
    "    Returns:\n",
    "        int: minimum value\n",
    "    \"\"\"\n",
    "    \n",
    "    return min(nums)\n",
    "rotateArray(nums)"
   ]
  },
  {
   "cell_type": "code",
   "execution_count": null,
   "id": "bc8660b6-56ab-4f89-ad3d-239a18a64df4",
   "metadata": {},
   "outputs": [],
   "source": []
  },
  {
   "cell_type": "markdown",
   "id": "928f6920-7a76-4af2-b4b7-899915934736",
   "metadata": {},
   "source": [
    "**Question 8**\n",
    "\n",
    "An integer array original is transformed into a **doubled** array changed by appending **twice the value** of every element in original,\n",
    "and then randomly **shuffling** the resulting array.\n",
    "\n",
    "Given an array changed, return original *if* changed *is a **doubled** array. If* changed *is not a **doubled** array, return an empty \n",
    "array. The elements in* original *may be returned in **any** order*.\n",
    "\n",
    "**Example 1:**\n",
    "\n",
    "**Input:** changed = [1,3,4,2,6,8]\n",
    "\n",
    "**Output:** [1,3,4]\n",
    "\n",
    "**Explanation:** One possible original array could be [1,3,4]:\n",
    "\n",
    "- Twice the value of 1 is 1 * 2 = 2.\n",
    "- Twice the value of 3 is 3 * 2 = 6.\n",
    "- Twice the value of 4 is 4 * 2 = 8.\n",
    "\n",
    "Other original arrays could be [4,3,1] or [3,1,4].\n"
   ]
  },
  {
   "cell_type": "code",
   "execution_count": 17,
   "id": "4adca9cc-5244-4e0f-b8ae-ccd5f6a5ca26",
   "metadata": {},
   "outputs": [
    {
     "data": {
      "text/plain": [
       "[1, 3, 4]"
      ]
     },
     "execution_count": 17,
     "metadata": {},
     "output_type": "execute_result"
    }
   ],
   "source": [
    "changed = [1,3,4,2,6,8]\n",
    "def findOriginalArray(changed: list[int]) -> list[int]:\n",
    "    \"\"\"checks if an array is doubled and returns the original\n",
    "    array or empty list\n",
    "\n",
    "    Args:\n",
    "        changed (list[int]): doubled array\n",
    "\n",
    "    Returns:\n",
    "        list[int]: original array\n",
    "    \"\"\"\n",
    "    from collections import Counter\n",
    "    if len(changed)%2!=0:return []\n",
    "    changed.sort()\n",
    "    c=Counter(changed)\n",
    "    ans=[]\n",
    "    if c[0]%2==0:\n",
    "        ans+=[0]*(c[0]//2)\n",
    "        \n",
    "    for i in c:\n",
    "        if i==0 or c[i]==0:\n",
    "            continue\n",
    "        elif (i*2 not in c) or c[i]>c[i*2]:\n",
    "            return []\n",
    "        c[i*2]-=c[i]\n",
    "        ans+=[i]*c[i]\n",
    "            \n",
    "    return ans\n",
    "findOriginalArray(changed)"
   ]
  },
  {
   "cell_type": "code",
   "execution_count": null,
   "id": "ce05993b-23bd-491d-b170-ec978ba985b4",
   "metadata": {},
   "outputs": [],
   "source": []
  }
 ],
 "metadata": {
  "kernelspec": {
   "display_name": "Python 3 (ipykernel)",
   "language": "python",
   "name": "python3"
  },
  "language_info": {
   "codemirror_mode": {
    "name": "ipython",
    "version": 3
   },
   "file_extension": ".py",
   "mimetype": "text/x-python",
   "name": "python",
   "nbconvert_exporter": "python",
   "pygments_lexer": "ipython3",
   "version": "3.10.8"
  }
 },
 "nbformat": 4,
 "nbformat_minor": 5
}
