{
 "cells": [
  {
   "cell_type": "markdown",
   "id": "89707ea7-6a7f-46d3-8770-a3826ffab081",
   "metadata": {},
   "source": [
    "# Assignment Questions 4"
   ]
  },
  {
   "cell_type": "markdown",
   "id": "a0daeafe-b9b3-4a02-9f31-79490d546d72",
   "metadata": {},
   "source": [
    "\n",
    " **Question 1**\n",
    "Given three integer arrays arr1, arr2 and arr3 **sorted** in **strictly increasing** order, return a sorted array of \n",
    "**only** the integers that appeared in **all** three arrays.\n",
    "\n",
    "**Example 1:**\n",
    "\n",
    "Input: arr1 = [1,2,3,4,5], arr2 = [1,2,5,7,9], arr3 = [1,3,4,5,8]\n",
    "\n",
    "Output: [1,5]\n",
    "\n",
    "**Explanation:** Only 1 and 5 appeared in the three arrays.\n",
    "\n",
    "</aside>"
   ]
  },
  {
   "cell_type": "code",
   "execution_count": 3,
   "id": "6ce4a193-6c27-4f87-ac93-ce7134838ce0",
   "metadata": {},
   "outputs": [
    {
     "data": {
      "text/plain": [
       "[1, 5]"
      ]
     },
     "execution_count": 3,
     "metadata": {},
     "output_type": "execute_result"
    }
   ],
   "source": [
    "\n",
    "\n",
    "arr1 = [1,2,3,4,5]\n",
    "arr2 = [1,2,5,7,9]\n",
    "arr3 = [1,3,4,5,8]\n",
    "def find_common(arr1:list, arr2:list, arr3:list)->list[int]:\n",
    "    \n",
    "    n1 = len(arr1)\n",
    "    n2 = len(arr2)\n",
    "    n3 = len(arr3)\n",
    "    \n",
    "    i , j , k = 0 , 0 , 0\n",
    "    \n",
    "    common_elements = []\n",
    "    while (i < n1 and j < n2 and k < n3):\n",
    "        if (arr1[i] == arr2[j]) and (arr2[j] == arr3[k]):\n",
    "            common_elements.append(arr1[i])\n",
    "            i += 1\n",
    "            j += 1\n",
    "            k += 1\n",
    "        elif arr1[i] < arr2[j]:\n",
    "            i += 1\n",
    "        elif arr2[j] < arr3[k]:\n",
    "            j += 1\n",
    "        else:\n",
    "            k += 1\n",
    "            \n",
    "    return common_elements\n",
    "find_common(arr1, arr2, arr3)\n",
    "\n"
   ]
  },
  {
   "cell_type": "code",
   "execution_count": null,
   "id": "9b4c086e-6dac-4fc3-bc95-7acb69ac95ce",
   "metadata": {},
   "outputs": [],
   "source": []
  },
  {
   "cell_type": "markdown",
   "id": "fbeed8b7-9622-4141-8366-848da6ee2fcd",
   "metadata": {},
   "source": [
    " **Question 2**\n",
    "\n",
    "Given two **0-indexed** integer arrays nums1 and nums2, return *a list* answer *of size* 2 *where:*\n",
    "\n",
    "- answer[0] *is a list of all **distinct** integers in* nums1 *which are **not** present in* nums2*.*\n",
    "- answer[1] *is a list of all **distinct** integers in* nums2 *which are **not** present in* nums1.\n",
    "\n",
    "**Note** that the integers in the lists may be returned in **any** order.\n",
    "\n",
    "**Example 1:**\n",
    "\n",
    "**Input:** nums1 = [1,2,3], nums2 = [2,4,6]\n",
    "\n",
    "**Output:** [[1,3],[4,6]]\n",
    "\n",
    "**Explanation:**\n",
    "\n",
    "For nums1, nums1[1] = 2 is present at index 0 of nums2, whereas nums1[0] = 1 and nums1[2] = 3 are not present in nums2. \n",
    "Therefore, answer[0] = [1,3].\n",
    "\n",
    "For nums2, nums2[0] = 2 is present at index 1 of nums1, whereas nums2[1] = 4 and nums2[2] = 6 are not present in nums2. \n",
    "Therefore, answer[1] = [4,6].\n",
    "\n"
   ]
  },
  {
   "cell_type": "code",
   "execution_count": 5,
   "id": "d23355e7-1ca4-4d2d-857a-b9f7eb1b05dd",
   "metadata": {},
   "outputs": [
    {
     "data": {
      "text/plain": [
       "[[1], [6]]"
      ]
     },
     "execution_count": 5,
     "metadata": {},
     "output_type": "execute_result"
    }
   ],
   "source": [
    "nums1 = [1,2,3]\n",
    "nums2 = [2,3,6]\n",
    "def findDifference(nums1: list[int], nums2: list[int]) -> list[list[int]]:\n",
    "    \"\"\"Takes 2 arrays of numbers and returns \n",
    "    a list of differences between each array with other array\n",
    "\n",
    "    Args:\n",
    "        nums1 (list[int]): array of numbers1\n",
    "        nums2 (list[int]): array of numbers2\n",
    "\n",
    "    Returns:\n",
    "        list[list[int]]: list[array1 - array2 , array2 - array1]\n",
    "    \"\"\"\n",
    "    return [list(set(nums1).difference(nums2)), list(set(nums2).difference(nums1))]\n",
    "findDifference(nums1, nums2)"
   ]
  },
  {
   "cell_type": "code",
   "execution_count": null,
   "id": "a7c6c628-2bb8-49c4-b7cf-5a45fe70cbbb",
   "metadata": {},
   "outputs": [],
   "source": []
  },
  {
   "cell_type": "markdown",
   "id": "1dfe50f0-6323-4b02-8545-9f9b46c2b8b8",
   "metadata": {},
   "source": [
    "\n",
    "**Question 3**\n",
    "Given a 2D integer array matrix, return *the **transpose** of* matrix.\n",
    "\n",
    "The **transpose** of a matrix is the matrix flipped over its main diagonal, switching the matrix's row and column indices.\n",
    "\n",
    "**Example 1:**\n",
    "\n",
    "Input: matrix = [[1,2,3],[4,5,6],[7,8,9]]\n",
    "\n",
    "Output: [[1,4,7],[2,5,8],[3,6,9]]\n",
    "\n",
    "</aside>"
   ]
  },
  {
   "cell_type": "code",
   "execution_count": 7,
   "id": "3b08d212-a252-4671-830c-0cf7f8b641ca",
   "metadata": {},
   "outputs": [],
   "source": [
    "matrix = [[1,2,3],\n",
    "          [4,5,6],\n",
    "          [7,8,9]]"
   ]
  },
  {
   "cell_type": "code",
   "execution_count": 10,
   "id": "1301e48d-b61c-449a-a988-7057e7f63b05",
   "metadata": {},
   "outputs": [
    {
     "data": {
      "text/plain": [
       "[[1, 2, 3], [4, 5, 6], [7, 8, 9]]"
      ]
     },
     "execution_count": 10,
     "metadata": {},
     "output_type": "execute_result"
    }
   ],
   "source": [
    "def matrix_transpose(matrix:list[list])->list[list] :\n",
    "    \n",
    "    for i in range(len(matrix)):\n",
    "        for j in range(i+1, len(matrix)):\n",
    "            matrix[i][j] , matrix[j][i] = matrix[j][i] , matrix[i][j]\n",
    "    return (matrix)\n",
    "matrix_transpose(matrix)"
   ]
  },
  {
   "cell_type": "code",
   "execution_count": null,
   "id": "f3b6416b-7177-4412-b178-f80fdc07895d",
   "metadata": {},
   "outputs": [],
   "source": []
  },
  {
   "cell_type": "markdown",
   "id": "d03bfa7d-bc4e-4e80-ad17-331cf2f5da42",
   "metadata": {},
   "source": [
    " **Question 4**\n",
    "Given an integer array nums of 2n integers, group these integers into n pairs (a1, b1), (a2, b2), ..., (an, bn) such that the \n",
    "sum of min(ai, bi) for all i is **maximized**. Return *the maximized sum*.\n",
    "\n",
    "**Example 1:**\n",
    "\n",
    "Input: nums = [1,4,3,2]\n",
    "\n",
    "Output: 4\n",
    "\n",
    "**Explanation:** All possible pairings (ignoring the ordering of elements) are:\n",
    "\n",
    "1. (1, 4), (2, 3) -> min(1, 4) + min(2, 3) = 1 + 2 = 3\n",
    "\n",
    "2. (1, 3), (2, 4) -> min(1, 3) + min(2, 4) = 1 + 2 = 3\n",
    "\n",
    "3. (1, 2), (3, 4) -> min(1, 2) + min(3, 4) = 1 + 3 = 4\n",
    "\n",
    "So the maximum possible sum is 4.\n"
   ]
  },
  {
   "cell_type": "code",
   "execution_count": 9,
   "id": "afcce198-11e9-45d9-81be-91c8f7e9f917",
   "metadata": {},
   "outputs": [
    {
     "data": {
      "text/plain": [
       "4"
      ]
     },
     "execution_count": 9,
     "metadata": {},
     "output_type": "execute_result"
    }
   ],
   "source": [
    "nums = [1,4,3,2]\n",
    "def max_sum(nums:list[int])->int:\n",
    "    \"\"\"takes an array of 2n integers and returns\n",
    "    the sum such the the min(ai,bi) is maximized\n",
    "\n",
    "    Args:\n",
    "        nums (list): array of integers\n",
    "\n",
    "    Returns:\n",
    "        int: maximized sum of integers\n",
    "    \"\"\"\n",
    "    return sum(sorted(nums)[::2])\n",
    "max_sum(nums)\n",
    "\n"
   ]
  },
  {
   "cell_type": "code",
   "execution_count": null,
   "id": "5cfb35e7-8067-4d2d-ab1a-c818295e2984",
   "metadata": {},
   "outputs": [],
   "source": []
  },
  {
   "cell_type": "markdown",
   "id": "0529ac13-81b5-4297-9494-be7417a9d903",
   "metadata": {},
   "source": [
    "**Question 5**\n",
    "You have n coins and you want to build a staircase with these coins. The staircase consists of k rows where the ith row has\n",
    "exactly i coins. The last row of the staircase **may be** incomplete.\n",
    "\n",
    "Given the integer n, return *the number of **complete rows** of the staircase you will build*.\n",
    "\n",
    "**Example 1:**\n",
    "\n",
    "[]()\n",
    "\n",
    "![v2.jpg](https://s3-us-west-2.amazonaws.com/secure.notion-static.com/4bd91cfa-d2b1-47b3-8197-a72e8dcfff4b/v2.jpg)\n",
    "\n",
    "**Input:** n = 5\n",
    "\n",
    "**Output:** 2\n",
    "\n",
    "**Explanation:** Because the 3rd row is incomplete, we return 2.\n"
   ]
  },
  {
   "cell_type": "code",
   "execution_count": 11,
   "id": "e3ffc299-e10b-4866-aa87-5414513107e0",
   "metadata": {},
   "outputs": [
    {
     "data": {
      "text/plain": [
       "2"
      ]
     },
     "execution_count": 11,
     "metadata": {},
     "output_type": "execute_result"
    }
   ],
   "source": [
    "\n",
    "def row_count(n:int,count=0)->int:\n",
    "    left = 0 \n",
    "    right  = n\n",
    "    while left <= right:\n",
    "        k = (left + right) //2\n",
    "        curr = k * (k+1) //2\n",
    "        if curr == n:\n",
    "            return k\n",
    "        elif n < curr:\n",
    "            right = k - 1 \n",
    "        else:\n",
    "            left = k + 1\n",
    "\n",
    "    return right\n",
    "row_count(5)\n",
    "\n"
   ]
  },
  {
   "cell_type": "code",
   "execution_count": null,
   "id": "a2321038-2737-4a53-b7e3-e8acd8171228",
   "metadata": {},
   "outputs": [],
   "source": []
  },
  {
   "cell_type": "markdown",
   "id": "44d70250-34dd-407f-bba3-e17435ad36aa",
   "metadata": {},
   "source": [
    "**Question 6**\n",
    "Given an integer array nums sorted in **non-decreasing** order, return *an array of **the squares of each number** sorted in \n",
    "non-decreasing order*.\n",
    "\n",
    "**Example 1:**\n",
    "\n",
    "Input: nums = [-4,-1,0,3,10]\n",
    "\n",
    "Output: [0,1,9,16,100]\n",
    "\n",
    "**Explanation:** After squaring, the array becomes [16,1,0,9,100].\n",
    "After sorting, it becomes [0,1,9,16,100]\n",
    "\n",
    "\n",
    "\n"
   ]
  },
  {
   "cell_type": "code",
   "execution_count": 12,
   "id": "00093f07-ac42-47b1-bc06-7b726e6dca2c",
   "metadata": {},
   "outputs": [
    {
     "data": {
      "text/plain": [
       "[0, 1, 9, 16, 100]"
      ]
     },
     "execution_count": 12,
     "metadata": {},
     "output_type": "execute_result"
    }
   ],
   "source": [
    "nums = [-4,-1,0,3,10]\n",
    "def sorted_square(nums:list[int])->list:\n",
    "    \"\"\"takes a list of numbers\n",
    "    squares them and returns a sorted list\n",
    "\n",
    "    Args:\n",
    "        nums (list[int]): list of numbers\n",
    "\n",
    "    Returns:\n",
    "        list: sorted list of numbers squared\n",
    "    \"\"\"\n",
    "    \n",
    "    return sorted([x**2 for x in nums])\n",
    "\n",
    "sorted_square(nums)"
   ]
  },
  {
   "cell_type": "code",
   "execution_count": null,
   "id": "bf26c121-016c-4373-8a35-b059684ace5e",
   "metadata": {},
   "outputs": [],
   "source": []
  },
  {
   "cell_type": "markdown",
   "id": "c32944b0-269a-4266-8695-5391da8fa1a7",
   "metadata": {},
   "source": [
    "**Question 7**\n",
    "You are given an m x n matrix M initialized with all 0's and an array of operations ops, where ops[i] = [ai, bi] means M[x][y] \n",
    "should be incremented by one for all 0 <= x < ai and 0 <= y < bi.\n",
    "\n",
    "Count and return *the number of maximum integers in the matrix after performing all the operations*\n",
    "\n",
    "**Example 1:**\n",
    "\n",
    "![q4.jpg](https://s3-us-west-2.amazonaws.com/secure.notion-static.com/4d0890d0-7bc7-4f59-be8e-352d9f3c1c52/q4.jpg)\n",
    "\n",
    "**Input:** m = 3, n = 3, ops = [[2,2],[3,3]]\n",
    "\n",
    "**Output:** 4\n",
    "\n",
    "**Explanation:** The maximum integer in M is 2, and there are four of it in M. So return 4.\n",
    "\n"
   ]
  },
  {
   "cell_type": "code",
   "execution_count": 13,
   "id": "cce58949-aea3-432e-b4c9-54a0303a0a0f",
   "metadata": {},
   "outputs": [
    {
     "data": {
      "text/plain": [
       "4"
      ]
     },
     "execution_count": 13,
     "metadata": {},
     "output_type": "execute_result"
    }
   ],
   "source": [
    "\n",
    "\n",
    "m=3\n",
    "n=3\n",
    "ops = [[2,2],[3,3]]\n",
    "def maxCount(m: int, n: int, ops: list[list[int]]) -> int:\n",
    "    \"\"\"Given a m x n matrix M(ops) initialized with all 0's and an array of operations ops, \n",
    "    where ops[i] = [ai, bi] means M[x][y] is incremented by one for all 0 <= x < ai and 0 <= y < bi.\n",
    "    Counts and return *the number of maximum integers in the matrix after performing all the operations*\n",
    "\n",
    "\n",
    "    Args:\n",
    "        m (int): integer\n",
    "        n (int): integer\n",
    "        ops (list[list[int]]): list of operations for which \n",
    "        the matrix m * n should be incremented\n",
    "\n",
    "    Returns:\n",
    "        int: Count of the number of maximum integers in the matrix after performing all the operations\n",
    "    \"\"\"\n",
    "    if len(ops) == 0: return m * n\n",
    "    result = [ops[0][0],ops[0][1]]\n",
    "    for i in range(len(ops)):\n",
    "        result[0] = min(result[0],ops[i][0])\n",
    "        result[1] = min(result[1],ops[i][1])\n",
    "    return result[0] * result[1]\n",
    "maxCount(m,n,ops)\n",
    "\n"
   ]
  },
  {
   "cell_type": "code",
   "execution_count": null,
   "id": "29ff465a-8b04-4e66-b622-ea57533dcdad",
   "metadata": {},
   "outputs": [],
   "source": []
  },
  {
   "cell_type": "markdown",
   "id": "c64cf4ff-8496-4b88-aa8e-0ef557a02cf2",
   "metadata": {},
   "source": [
    " **Question 8**\n",
    "\n",
    "Given the array nums consisting of 2n elements in the form [x1,x2,...,xn,y1,y2,...,yn].\n",
    "\n",
    "*Return the array in the form* [x1,y1,x2,y2,...,xn,yn].\n",
    "\n",
    "**Example 1:**\n",
    "\n",
    "**Input:** nums = [2,5,1,3,4,7], n = 3\n",
    "\n",
    "**Output:** [2,3,5,4,1,7]\n",
    "\n",
    "**Explanation:** Since x1=2, x2=5, x3=1, y1=3, y2=4, y3=7 then the answer is [2,3,5,4,1,7].\n",
    "\n"
   ]
  },
  {
   "cell_type": "code",
   "execution_count": 14,
   "id": "aa29443d-4f65-4d52-ba04-efff2a9f9f29",
   "metadata": {},
   "outputs": [
    {
     "data": {
      "text/plain": [
       "[2, 3, 5, 4, 1, 7]"
      ]
     },
     "execution_count": 14,
     "metadata": {},
     "output_type": "execute_result"
    }
   ],
   "source": [
    "\n",
    "nums = [2,5,1,3,4,7]\n",
    "def arryRearrange(nums:list[int])->list[int]:\n",
    "    n = len(nums)\n",
    "    mid = n//2\n",
    "    first = 0\n",
    "    second = mid\n",
    "    result = []\n",
    "    while first<=mid and second<=n-1:\n",
    "        result.append(nums[first])\n",
    "        result.append(nums[second])\n",
    "        first+=1\n",
    "        second+=1\n",
    "    \n",
    "    return result\n",
    "\n",
    "arryRearrange(nums)\n",
    "        \n",
    "\n"
   ]
  },
  {
   "cell_type": "code",
   "execution_count": null,
   "id": "6ff4b0f8-127b-45a7-a1f5-00ab3e89a2f0",
   "metadata": {},
   "outputs": [],
   "source": []
  }
 ],
 "metadata": {
  "kernelspec": {
   "display_name": "Python 3 (ipykernel)",
   "language": "python",
   "name": "python3"
  },
  "language_info": {
   "codemirror_mode": {
    "name": "ipython",
    "version": 3
   },
   "file_extension": ".py",
   "mimetype": "text/x-python",
   "name": "python",
   "nbconvert_exporter": "python",
   "pygments_lexer": "ipython3",
   "version": "3.10.8"
  }
 },
 "nbformat": 4,
 "nbformat_minor": 5
}
